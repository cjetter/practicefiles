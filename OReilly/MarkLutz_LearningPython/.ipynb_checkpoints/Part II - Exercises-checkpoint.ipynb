{
 "cells": [
  {
   "cell_type": "markdown",
   "metadata": {},
   "source": [
    "### Q1 - The Basics"
   ]
  },
  {
   "cell_type": "code",
   "execution_count": null,
   "metadata": {
    "collapsed": true
   },
   "outputs": [],
   "source": [
    "## play around with the following interactive prompts\n"
   ]
  },
  {
   "cell_type": "markdown",
   "metadata": {},
   "source": [
    "### Q2 - Indexing and Slicing"
   ]
  },
  {
   "cell_type": "code",
   "execution_count": 16,
   "metadata": {},
   "outputs": [
    {
     "name": "stdout",
     "output_type": "stream",
     "text": [
      "[1, 2, 3, 4]\n",
      "<class 'list'>\n",
      "[4, 3, 2]\n",
      "[1, 2, 3, 5, 4]\n",
      "[1, 5, 2, 3, 4]\n"
     ]
    }
   ],
   "source": [
    "# Indexing/slicing boundaries of list\n",
    "\n",
    "L = [1,2,3,4]\n",
    "#print(L[4])            # Error! - cannot pass an index value outside of range\n",
    "#print(L[-5])           # Error! - cannot pass an index value outside of range\n",
    "\n",
    "\n",
    "L = [1,2,3,4]\n",
    "print(L[-1000:100])     # returns entire list given range passed in slice exceeds bounds of \n",
    "\n",
    "L = [1,2,3,4]\n",
    "print(L[3:0])           # returns empty list \n",
    "\n",
    "L = [1,2,3,4]\n",
    "print(L[3:0:-1])        # returns list from index 3 (4) down to but excluding index 0 (1)\n",
    "\n",
    "L = [1,2,3,4]\n",
    "L[3:0]=[5]              # inserts value after first index - python scales the slice limits [3:0]-->[3:3] \n",
    "print(L)       \n",
    "\n",
    "L = [1,2,3,4]\n",
    "L[-3:0]=[5]             # inserts value after first index (going in same opposite direction given '-' sign)\n",
    "print(L)       "
   ]
  },
  {
   "cell_type": "markdown",
   "metadata": {},
   "source": [
    "### Q3 - Indexing, slicing and del"
   ]
  },
  {
   "cell_type": "code",
   "execution_count": 24,
   "metadata": {},
   "outputs": [
    {
     "name": "stdout",
     "output_type": "stream",
     "text": [
      "[4, 1, 7]\n",
      "[5, 6, 7]\n",
      "[4]\n",
      "[4, 5, [], 7]\n",
      "[4, 5]\n"
     ]
    }
   ],
   "source": [
    "L1 = [4,5,6,7]\n",
    "L1[1:3]=[1]          # deletes [5,6] and inserts [1]\n",
    "print(L1)\n",
    "\n",
    "L1 = [4,5,6,7]\n",
    "del L1[0]            # deletes reference at index 0\n",
    "print(L1)\n",
    "\n",
    "L1 = [4,5,6,7]\n",
    "del L1[1:]           # deletes references at subslice 1 to end\n",
    "print(L1)\n",
    "\n",
    "L1 = [4,5,6,7]\n",
    "L1[2] = []           # deletes ref at index 2 and inserts empty list at offset\n",
    "print(L1)\n",
    "\n",
    "L1 = [4,5,6,7]\n",
    "L1[2:4]=[]           # deletes ref at index 2 (slice of list with empty list deletes slice unlike above)\n",
    "print(L1)\n"
   ]
  },
  {
   "cell_type": "markdown",
   "metadata": {},
   "source": [
    "### Q4 - Tuple Assignment"
   ]
  },
  {
   "cell_type": "code",
   "execution_count": 28,
   "metadata": {},
   "outputs": [
    {
     "name": "stdout",
     "output_type": "stream",
     "text": [
      "eggs\n",
      "eggs\n",
      "True\n",
      "True\n",
      "eggs\n",
      "spam\n",
      "False\n",
      "False\n"
     ]
    }
   ],
   "source": [
    "# simultaneous swapping of values with placeholder\n",
    "\n",
    "X ='spam'\n",
    "Y = 'eggs'\n",
    "X = Y\n",
    "Y = X        # Original value of Y is lost. Must use placeholder value or tuple\n",
    "print(X)\n",
    "print(Y)\n",
    "print(X==Y)\n",
    "print(X is Y)\n",
    "\n",
    "X ='spam'\n",
    "Y = 'eggs'\n",
    "temp = X     # placeholder\n",
    "X = Y\n",
    "Y = temp        \n",
    "print(X)\n",
    "print(Y)\n",
    "print(X==Y)\n",
    "print(X is Y)"
   ]
  },
  {
   "cell_type": "code",
   "execution_count": 25,
   "metadata": {},
   "outputs": [
    {
     "name": "stdout",
     "output_type": "stream",
     "text": [
      "eggs\n",
      "spam\n",
      "False\n",
      "False\n"
     ]
    }
   ],
   "source": [
    "# simultaneous swapping of values w tuple\n",
    "\n",
    "X ='spam'\n",
    "Y = 'eggs'\n",
    "X,Y = Y,X     # The tuple provides the temporary assignment to achieve the swap effect\n",
    "print(X)\n",
    "print(Y)\n",
    "\n",
    "print(X==Y)\n",
    "print(X is Y)"
   ]
  },
  {
   "cell_type": "markdown",
   "metadata": {
    "collapsed": true
   },
   "source": [
    "### Dictionaries"
   ]
  },
  {
   "cell_type": "code",
   "execution_count": 34,
   "metadata": {},
   "outputs": [
    {
     "name": "stdout",
     "output_type": "stream",
     "text": [
      "{1: 'a', 2: 'b', (1, 2, 3): 'c'}\n",
      "error\n",
      "{1: 'a', 2: 'b', (1, 2, 3): 'c', '1': 6}\n"
     ]
    }
   ],
   "source": [
    "# dictionary keys\n",
    "# keys can be any immutable object - integers, strings, tuples, etc\n",
    "# mixed-type keys are fine as well\n",
    "\n",
    "D = {}\n",
    "D[1]='a'\n",
    "D[2]='b'\n",
    "D[(1,2,3)]='c'\n",
    "print(D)\n",
    "try:D[[1]]=[4,7]\n",
    "except:print('error')\n",
    "D['1']=6\n",
    "print(D)"
   ]
  },
  {
   "cell_type": "code",
   "execution_count": 38,
   "metadata": {},
   "outputs": [
    {
     "name": "stdout",
     "output_type": "stream",
     "text": [
      "{'a': 1, 'b': 1, 'c': 1}\n",
      "error\n",
      "{'a': 1, 'b': 1, 'c': 1, 'd': 0}\n"
     ]
    }
   ],
   "source": [
    "# dictionary indexing\n",
    "D = dict.fromkeys(list('abc'),1)\n",
    "print(D)\n",
    "try: print(D['d'])             # cannot index a non-existent key (similar to indexing lists (not slicing lists))\n",
    "except: print('error')\n",
    "D['d']=0                       # however you can assign a new value to a non-existent key (unlike lists)\n",
    "print(D)\n"
   ]
  },
  {
   "cell_type": "markdown",
   "metadata": {},
   "source": [
    "#### Immutable types"
   ]
  },
  {
   "cell_type": "code",
   "execution_count": 39,
   "metadata": {},
   "outputs": [
    {
     "name": "stdout",
     "output_type": "stream",
     "text": [
      "slam\n",
      "slam\n"
     ]
    }
   ],
   "source": [
    "s = 'spam'\n",
    "s = s[:1]+'l'+s[2:]\n",
    "print(s)\n",
    "\n",
    "s = 'spam'\n",
    "s = s[0]+'l'+s[2]+s[-1]\n",
    "print(s)\n",
    "\n"
   ]
  },
  {
   "cell_type": "markdown",
   "metadata": {},
   "source": [
    "### Nesting"
   ]
  },
  {
   "cell_type": "code",
   "execution_count": 43,
   "metadata": {},
   "outputs": [
    {
     "name": "stdout",
     "output_type": "stream",
     "text": [
      "First Name:  Christopher\n",
      "Middle Name:  Moore\n",
      "Last Name:  Jetter\n",
      "Age:  30\n",
      "Job:  freelance\n",
      "Address:  Av Floresta ,  19E \n",
      "\t  San Salvador ,  ESA\n",
      "Email:  christopher.jetter@gmail.com\n",
      "Phone:  6311-5142\n"
     ]
    }
   ],
   "source": [
    "rec = {'name':('Christopher','Moore','Jetter'),'age':30,'job':'freelance','address':{'street':'Av Floresta','house #':'19E','city':'San Salvador','country':'ESA'},'email':'christopher.jetter@gmail.com','phone':'6311-5142'}\n",
    "print('First Name: ',rec['name'][0])\n",
    "print('Middle Name: ',rec['name'][1])\n",
    "print('Last Name: ',rec['name'][2])\n",
    "print('Age: ',rec['age'])\n",
    "print('Job: ',rec['job'])\n",
    "print('Address: ',rec['address']['street'],', ',rec['address']['house #'],'\\n\\t ',rec['address']['city'],', ',rec['address']['country'])\n",
    "print('Email: ',rec['email'])\n",
    "print('Phone: ',rec['phone'])"
   ]
  }
 ],
 "metadata": {
  "kernelspec": {
   "display_name": "Python 3",
   "language": "python",
   "name": "python3"
  },
  "language_info": {
   "codemirror_mode": {
    "name": "ipython",
    "version": 3
   },
   "file_extension": ".py",
   "mimetype": "text/x-python",
   "name": "python",
   "nbconvert_exporter": "python",
   "pygments_lexer": "ipython3",
   "version": "3.6.1"
  }
 },
 "nbformat": 4,
 "nbformat_minor": 2
}
