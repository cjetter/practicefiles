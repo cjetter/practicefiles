{
 "cells": [
  {
   "cell_type": "code",
   "execution_count": 2,
   "metadata": {
    "collapsed": false
   },
   "outputs": [
    {
     "data": {
      "text/plain": [
       "array([[ 0,  1,  2,  3,  4],\n",
       "       [ 5,  6,  7,  8,  9],\n",
       "       [10, 11, 12, 13, 14]])"
      ]
     },
     "execution_count": 2,
     "metadata": {},
     "output_type": "execute_result"
    }
   ],
   "source": [
    "import numpy as np\n",
    "a=np.arange(15).reshape(3,5)\n",
    "a"
   ]
  },
  {
   "cell_type": "code",
   "execution_count": 5,
   "metadata": {
    "collapsed": false
   },
   "outputs": [
    {
     "data": {
      "text/plain": [
       "2"
      ]
     },
     "execution_count": 5,
     "metadata": {},
     "output_type": "execute_result"
    }
   ],
   "source": [
    "a.ndim # number of dimensions"
   ]
  },
  {
   "cell_type": "code",
   "execution_count": 6,
   "metadata": {
    "collapsed": false
   },
   "outputs": [
    {
     "data": {
      "text/plain": [
       "(3, 5)"
      ]
     },
     "execution_count": 6,
     "metadata": {},
     "output_type": "execute_result"
    }
   ],
   "source": [
    "a.shape # the shape of the array"
   ]
  },
  {
   "cell_type": "code",
   "execution_count": 7,
   "metadata": {
    "collapsed": false
   },
   "outputs": [
    {
     "data": {
      "text/plain": [
       "15"
      ]
     },
     "execution_count": 7,
     "metadata": {},
     "output_type": "execute_result"
    }
   ],
   "source": [
    "a.size # the total number of elements in the array"
   ]
  },
  {
   "cell_type": "code",
   "execution_count": 8,
   "metadata": {
    "collapsed": false
   },
   "outputs": [
    {
     "data": {
      "text/plain": [
       "dtype('int32')"
      ]
     },
     "execution_count": 8,
     "metadata": {},
     "output_type": "execute_result"
    }
   ],
   "source": [
    "a.dtype # the type of the element in the array. Memorize: dtype == data type. "
   ]
  },
  {
   "cell_type": "code",
   "execution_count": 9,
   "metadata": {
    "collapsed": false
   },
   "outputs": [
    {
     "data": {
      "text/plain": [
       "4"
      ]
     },
     "execution_count": 9,
     "metadata": {},
     "output_type": "execute_result"
    }
   ],
   "source": [
    "a.itemsize # the size in BYTES of each element. Depends on the data type."
   ]
  },
  {
   "cell_type": "markdown",
   "metadata": {},
   "source": [
    "## Creating Array"
   ]
  },
  {
   "cell_type": "code",
   "execution_count": 203,
   "metadata": {
    "collapsed": false
   },
   "outputs": [
    {
     "data": {
      "text/plain": [
       "array([0, 2, 4, 6, 8])"
      ]
     },
     "execution_count": 203,
     "metadata": {},
     "output_type": "execute_result"
    }
   ],
   "source": [
    "# Method 1. Creating prefixed arrarys\n",
    "\n",
    "np.arange(10) # Count from 1 to N\n",
    "np.arange(0,10,2) # Count from 1 to N with a step of S\n",
    "np.linspace(0,10,111) # fill the gap between A and B evenly with N numbers\n",
    "np.zeros((3,3)) # fill the array with 0s.\n",
    "np.ones((3.3)) # fill the array with 1s.\n",
    "np.empty((1,3)) # fill the array with nonsense. Note: the result might vary."
   ]
  },
  {
   "cell_type": "code",
   "execution_count": 44,
   "metadata": {
    "collapsed": false
   },
   "outputs": [
    {
     "name": "stdout",
     "output_type": "stream",
     "text": [
      "[1 2 3]\n",
      "[ 4.1  5.2  6.3]\n"
     ]
    }
   ],
   "source": [
    "# Method 2. From a Python list or tuple.\n",
    "from_list=np.array([1,2,3])\n",
    "# from_list=np.array(1,2,3) # Don't do this\n",
    "from_tuple=np.array((4.1,5.2,6.3))\n",
    "# from_tuple=np.array(4,5,6) # Don't do this\n",
    "print(from_list)\n",
    "print(from_tuple)"
   ]
  },
  {
   "cell_type": "code",
   "execution_count": 12,
   "metadata": {
    "collapsed": false
   },
   "outputs": [
    {
     "name": "stdout",
     "output_type": "stream",
     "text": [
      "[[0 0]\n",
      " [1 1]]\n"
     ]
    }
   ],
   "source": [
    "# Multi-dimensional array\n",
    "from_list=np.array([[0,0],[1,1]]) # two points on a 2-dimensinal plane\n",
    "# from_list=np.array([0,0],[1,1]) # Intential error. Think what's wrong?\n",
    "print(from_list)"
   ]
  },
  {
   "cell_type": "code",
   "execution_count": 25,
   "metadata": {
    "collapsed": false
   },
   "outputs": [
    {
     "name": "stdout",
     "output_type": "stream",
     "text": [
      "int16\n",
      "[1 2 3 4 5]\n",
      "[1 1 1 1]\n"
     ]
    }
   ],
   "source": [
    "# Specified data types\n",
    "# e.g. np.int16, np.float32, complex,\n",
    "array_int=np.array([1,2,3,4,5],dtype=np.int16)\n",
    "print(array_int.dtype)\n",
    "print(array_int)\n",
    "\n",
    "# What happens if you int a number with decimals?\n",
    "test=np.array([1.1,1.4,1.5,1.9],dtype=np.int16)\n",
    "print(test)"
   ]
  },
  {
   "cell_type": "markdown",
   "metadata": {},
   "source": [
    "## Print Arrays"
   ]
  },
  {
   "cell_type": "code",
   "execution_count": 1,
   "metadata": {
    "collapsed": true
   },
   "outputs": [
    {
     "ename": "NameError",
     "evalue": "name 'np' is not defined",
     "output_type": "error",
     "traceback": [
      "\u001b[1;31m---------------------------------------------------------------------------\u001b[0m",
      "\u001b[1;31mNameError\u001b[0m                                 Traceback (most recent call last)",
      "\u001b[1;32m<ipython-input-1-e02a6b7d643c>\u001b[0m in \u001b[0;36m<module>\u001b[1;34m()\u001b[0m\n\u001b[0;32m      1\u001b[0m \u001b[1;31m# Simply print it\u001b[0m\u001b[1;33m\u001b[0m\u001b[1;33m\u001b[0m\u001b[0m\n\u001b[1;32m----> 2\u001b[1;33m \u001b[0ma\u001b[0m\u001b[1;33m=\u001b[0m\u001b[0mnp\u001b[0m\u001b[1;33m.\u001b[0m\u001b[0marange\u001b[0m\u001b[1;33m(\u001b[0m\u001b[1;36m16\u001b[0m\u001b[1;33m)\u001b[0m\u001b[1;33m.\u001b[0m\u001b[0mreshape\u001b[0m\u001b[1;33m(\u001b[0m\u001b[1;36m4\u001b[0m\u001b[1;33m,\u001b[0m\u001b[1;36m4\u001b[0m\u001b[1;33m)\u001b[0m \u001b[1;31m# 2d array\u001b[0m\u001b[1;33m\u001b[0m\u001b[0m\n\u001b[0m\u001b[0;32m      3\u001b[0m \u001b[0mprint\u001b[0m\u001b[1;33m(\u001b[0m\u001b[0ma\u001b[0m\u001b[1;33m)\u001b[0m\u001b[1;33m\u001b[0m\u001b[0m\n\u001b[0;32m      4\u001b[0m \u001b[1;33m\u001b[0m\u001b[0m\n\u001b[0;32m      5\u001b[0m \u001b[0mb\u001b[0m\u001b[1;33m=\u001b[0m\u001b[0mnp\u001b[0m\u001b[1;33m.\u001b[0m\u001b[0marange\u001b[0m\u001b[1;33m(\u001b[0m\u001b[1;36m16\u001b[0m\u001b[1;33m)\u001b[0m \u001b[1;31m# 1d array\u001b[0m\u001b[1;33m\u001b[0m\u001b[0m\n",
      "\u001b[1;31mNameError\u001b[0m: name 'np' is not defined"
     ]
    }
   ],
   "source": [
    "# Simply print it\n",
    "a=np.arange(16).reshape(4,4) # 2d array\n",
    "print(a)\n",
    "\n",
    "b=np.arange(16) # 1d array\n",
    "print(b)\n",
    "\n",
    "c=np.arange(16).reshape(2,2,4) # 3d array\n",
    "print(c)\n",
    "\n",
    "# Will only corners are printed for large scale arrays\n",
    "a=np.arange(1000000).reshape(1000,1000)\n",
    "print(a)\n",
    "# Can disable this feature by\n",
    "# np.set_printoptions(threshold=np.inf)"
   ]
  },
  {
   "cell_type": "markdown",
   "metadata": {},
   "source": [
    "## Basic Operations"
   ]
  },
  {
   "cell_type": "markdown",
   "metadata": {},
   "source": [
    "Arithmetic operators on arrays apply **elementwise**. A **new array** is created and filled with the result."
   ]
  },
  {
   "cell_type": "code",
   "execution_count": 60,
   "metadata": {
    "collapsed": false,
    "scrolled": true
   },
   "outputs": [
    {
     "data": {
      "text/plain": [
       "array([ True,  True,  True, False], dtype=bool)"
      ]
     },
     "execution_count": 60,
     "metadata": {},
     "output_type": "execute_result"
    }
   ],
   "source": [
    "a=np.array([1,10,100,1000])\n",
    "a-10 # taking a number\n",
    "b=np.arange(4)\n",
    "a-b # taking an array\n",
    "a**2 # taking to the power of N\n",
    "np.cos(a) * 10 # triangular operation\n",
    "a < 999 # Bool operation."
   ]
  },
  {
   "cell_type": "markdown",
   "metadata": {},
   "source": [
    "#### The product operator: *"
   ]
  },
  {
   "cell_type": "code",
   "execution_count": 67,
   "metadata": {
    "collapsed": false
   },
   "outputs": [
    {
     "data": {
      "text/plain": [
       "array([[3, 6],\n",
       "       [1, 3]])"
      ]
     },
     "execution_count": 67,
     "metadata": {},
     "output_type": "execute_result"
    }
   ],
   "source": [
    "A=np.array([[1,2],\n",
    "           [0,1]])\n",
    "B=np.array([[3,0],\n",
    "          [1,1]])\n",
    "A*B # elementwise product\n",
    "np.dot(A,B) # matrix product\n",
    "A.dot(B) # another way of doing this\n",
    "B.dot(A) # this is NOT correct. Refer to the law of matrix product."
   ]
  },
  {
   "cell_type": "markdown",
   "metadata": {},
   "source": [
    "#### Inplace operations"
   ]
  },
  {
   "cell_type": "code",
   "execution_count": 76,
   "metadata": {
    "collapsed": false
   },
   "outputs": [
    {
     "data": {
      "text/plain": [
       "array([[  0.03275135,   3.27802208,   6.20598768],\n",
       "       [  9.88523176,  12.6041835 ,  15.61004853]])"
      ]
     },
     "execution_count": 76,
     "metadata": {},
     "output_type": "execute_result"
    }
   ],
   "source": [
    "# Modify an exiting array rather than creating a new one\n",
    "a=np.arange(6).reshape(2,3)\n",
    "b=np.random.random((2,3))\n",
    "a*=3 # inplace operation\n",
    "a # it has been changed\n",
    "b+=a # can add an integer array to a float array\n",
    "b\n",
    "# a+=b # but cannot add an float array to an integer array. Don't know what to do with the fractions!\n",
    "# a # Will yield an error\n"
   ]
  },
  {
   "cell_type": "markdown",
   "metadata": {},
   "source": [
    "When an operation concerns of multiple array types, the resulting array follows \n",
    "the more general or precise one.\n",
    "E.g. \n",
    "integer + float = float (float is more precise than integer)\n",
    "integer + float + complex = complex (complex is more precise than integer and float)"
   ]
  },
  {
   "cell_type": "code",
   "execution_count": 83,
   "metadata": {
    "collapsed": false
   },
   "outputs": [
    {
     "data": {
      "text/plain": [
       "dtype('complex128')"
      ]
     },
     "execution_count": 83,
     "metadata": {},
     "output_type": "execute_result"
    }
   ],
   "source": [
    "# upcasing type demonstration\n",
    "a=np.ones(3, dtype=np.int)\n",
    "a # integer array\n",
    "b=np.linspace(np.pi,5,3)\n",
    "b.dtype # float array\n",
    "c=a+b\n",
    "c.dtype # float array\n",
    "d=np.exp(c*1j)\n",
    "d.dtype # complex array\n"
   ]
  },
  {
   "cell_type": "markdown",
   "metadata": {},
   "source": [
    "#### basic statistics"
   ]
  },
  {
   "cell_type": "code",
   "execution_count": 109,
   "metadata": {
    "collapsed": false
   },
   "outputs": [
    {
     "name": "stdout",
     "output_type": "stream",
     "text": [
      "[[ 0  1  2  3]\n",
      " [ 4  5  6  7]\n",
      " [ 8  9 10 11]\n",
      " [12 13 14 15]]\n"
     ]
    },
    {
     "data": {
      "text/plain": [
       "array([ 6.,  7.,  8.,  9.])"
      ]
     },
     "execution_count": 109,
     "metadata": {},
     "output_type": "execute_result"
    }
   ],
   "source": [
    "\n",
    "a=np.random.random((3,3))\n",
    "a\n",
    "a.sum() # get the sum\n",
    "a.min() # find the minimum\n",
    "a.max() # find the maximum\n",
    "\n",
    "# by default, the functions treat the array as a list of numbers \n",
    "# regardless of its dimension. To do it dimension wise:\n",
    "\n",
    "b=np.arange(9).reshape(3,3)\n",
    "print(b)\n",
    "b.sum(axis=0) # sum by columns\n",
    "b.sum(axis=1) # sum by rows\n",
    "b.cumsum(axis=1) # cumulative sum each row(axis=1)/col(axis=0)\n",
    "np.average(b) # average\n",
    "np.std(a) # standard deviation\n",
    "# all these operations can be done dimension-wise\n",
    "# e.g.\n",
    "np.average(b,axis=0)"
   ]
  },
  {
   "cell_type": "markdown",
   "metadata": {},
   "source": [
    "#### Universal Funcions"
   ]
  },
  {
   "cell_type": "markdown",
   "metadata": {},
   "source": [
    "Common mathematical funcions such as sin, cos, exp."
   ]
  },
  {
   "cell_type": "code",
   "execution_count": 118,
   "metadata": {
    "collapsed": false
   },
   "outputs": [
    {
     "name": "stdout",
     "output_type": "stream",
     "text": [
      "[0 1 2 3 4]\n"
     ]
    },
    {
     "data": {
      "text/plain": [
       "array([ 3, 57,  3,  7, -6])"
      ]
     },
     "execution_count": 118,
     "metadata": {},
     "output_type": "execute_result"
    }
   ],
   "source": [
    "A=np.arange(5)\n",
    "print(A)\n",
    "np.sin(A) # sin(x) function\n",
    "np.cos(A) # cos(x) function\n",
    "np.exp(A) # e^(x) exponential function\n",
    "np.sqrt(A) # (x)^0.5 square root\n",
    "\n",
    "B=np.array([3,56,1,4,-10])\n",
    "np.add(A,B) # equals to A+B"
   ]
  },
  {
   "cell_type": "markdown",
   "metadata": {},
   "source": [
    "#### Indexing, slicing, and iterating"
   ]
  },
  {
   "cell_type": "code",
   "execution_count": 138,
   "metadata": {
    "collapsed": true
   },
   "outputs": [
    {
     "name": "stdout",
     "output_type": "stream",
     "text": [
      "[ 0  1  4  9 16 25 36 49 64 81]\n",
      "0.0\n",
      "1.0\n",
      "2.0\n",
      "3.0\n",
      "4.0\n",
      "5.0\n",
      "6.0\n",
      "7.0\n",
      "8.0\n",
      "9.0\n",
      "-10\n",
      "-9\n",
      "-6\n",
      "-1\n",
      "6\n",
      "15\n",
      "26\n",
      "39\n",
      "54\n",
      "71\n"
     ]
    }
   ],
   "source": [
    "a=np.arange(10)**2\n",
    "print(a)\n",
    "a[7] # indexing\n",
    "# a[10] # error because the index is 0...n-1\n",
    "a[3:8] # slicing\n",
    "a[:8] # -> begin to 8 (exclusive)\n",
    "a[8:] # -> 8 to end\n",
    "a[:] # -> begin to end (all)\n",
    "a[3:8:2] # slicing with interval\n",
    "\n",
    "# Challenge: reverse an array with slicing ?\n",
    "a[::-1] # reversed\n",
    "\n",
    "# iterating\n",
    "for i in a:\n",
    "    print(np.sqrt(i))\n",
    "# iterating with a function\n",
    "def f(x): return x-10\n",
    "for i in a:\n",
    "    print(f(i))\n"
   ]
  },
  {
   "cell_type": "markdown",
   "metadata": {},
   "source": [
    "In multi-dimensional arrays, dimensions are separated by commas."
   ]
  },
  {
   "cell_type": "code",
   "execution_count": 3,
   "metadata": {
    "collapsed": false
   },
   "outputs": [
    {
     "name": "stdout",
     "output_type": "stream",
     "text": [
      "[[ 0  1  2  3  4]\n",
      " [ 5  6  7  8  9]\n",
      " [10 11 12 13 14]\n",
      " [15 16 17 18 19]]\n"
     ]
    },
    {
     "data": {
      "text/plain": [
       "array([ 4,  9, 14, 19])"
      ]
     },
     "execution_count": 3,
     "metadata": {},
     "output_type": "execute_result"
    }
   ],
   "source": [
    "b=np.arange(20).reshape(4,5)\n",
    "print(b)\n",
    "b[0,2] # same as b[0][2], pick an element\n",
    "b[:3,1:3] # slicing. (row, col)\n",
    "b[:,-1] # for every row, pick the last column"
   ]
  },
  {
   "cell_type": "markdown",
   "metadata": {},
   "source": [
    "##### Slicing: Advanced topics"
   ]
  },
  {
   "cell_type": "markdown",
   "metadata": {},
   "source": [
    "when specification for any indices are missing, they're assumed to be complete slices."
   ]
  },
  {
   "cell_type": "code",
   "execution_count": 6,
   "metadata": {
    "collapsed": false
   },
   "outputs": [
    {
     "data": {
      "text/plain": [
       "2"
      ]
     },
     "execution_count": 6,
     "metadata": {},
     "output_type": "execute_result"
    }
   ],
   "source": [
    "b[0] # equivalent to b[0,:]"
   ]
  },
  {
   "cell_type": "markdown",
   "metadata": {},
   "source": [
    "use dots(...) to represent as many dimensions as needed of the remaining dimensions"
   ]
  },
  {
   "cell_type": "code",
   "execution_count": null,
   "metadata": {
    "collapsed": true
   },
   "outputs": [],
   "source": [
    "c=np.arange(27).reshape(3,3,3)\n",
    "print(c)\n",
    "c[1,...] # same as c[1] or c[1,:,:]\n",
    "c[...,1] # same as c[:,:,1]"
   ]
  },
  {
   "cell_type": "markdown",
   "metadata": {},
   "source": [
    "Iterating through multi-dimensional array"
   ]
  },
  {
   "cell_type": "code",
   "execution_count": 159,
   "metadata": {
    "collapsed": false,
    "scrolled": true
   },
   "outputs": [
    {
     "name": "stdout",
     "output_type": "stream",
     "text": [
      "[0 1 2 3 4]\n",
      "[5 6 7 8 9]\n",
      "[10 11 12 13 14]\n",
      "[15 16 17 18 19]\n",
      "0\n",
      "1\n",
      "2\n",
      "3\n",
      "4\n",
      "5\n",
      "6\n",
      "7\n",
      "8\n",
      "9\n",
      "10\n",
      "11\n",
      "12\n",
      "13\n",
      "14\n",
      "15\n",
      "16\n",
      "17\n",
      "18\n",
      "19\n",
      "0\n",
      "1\n",
      "2\n",
      "3\n",
      "4\n",
      "5\n",
      "6\n",
      "7\n",
      "8\n",
      "9\n",
      "10\n",
      "11\n",
      "12\n",
      "13\n",
      "14\n",
      "15\n",
      "16\n",
      "17\n",
      "18\n",
      "19\n"
     ]
    }
   ],
   "source": [
    "for row in b: # naive iteration (per row)\n",
    "    print(row)\n",
    "\n",
    "for row in b: # per element\n",
    "    for element in row:\n",
    "        print(element)\n",
    "        \n",
    "for element in b.flat: # per element, a more elegant way\n",
    "    print(element)"
   ]
  },
  {
   "cell_type": "markdown",
   "metadata": {},
   "source": [
    "exercise, iterate with `for` command through a three dimensional array C, where `C=np.arange(27).reshape(3,3,3)`"
   ]
  },
  {
   "cell_type": "markdown",
   "metadata": {},
   "source": [
    "## Shape Manipulation"
   ]
  },
  {
   "cell_type": "markdown",
   "metadata": {},
   "source": [
    "### 1. Transformation"
   ]
  },
  {
   "cell_type": "code",
   "execution_count": 186,
   "metadata": {
    "collapsed": true
   },
   "outputs": [
    {
     "data": {
      "text/plain": [
       "array([[ 0,  1,  2,  3,  4,  5,  6],\n",
       "       [ 7,  8,  9, 10, 11, 12, 13],\n",
       "       [14, 15, 16, 17, 18, 19, 20],\n",
       "       [21, 22, 23, 24, 25, 26, 27]])"
      ]
     },
     "execution_count": 186,
     "metadata": {},
     "output_type": "execute_result"
    }
   ],
   "source": [
    "a=np.arange(28).reshape(4,7)\n",
    "a.shape\n",
    "a.T # Matrix transpose\n",
    "a.ravel() # flatten the array\n",
    "a.reshape(2,2,7) # better practice\n",
    "a.reshape(4,-1) # -1 means other dimensions will be calculated automatically"
   ]
  },
  {
   "cell_type": "code",
   "execution_count": 201,
   "metadata": {
    "collapsed": false
   },
   "outputs": [
    {
     "name": "stdout",
     "output_type": "stream",
     "text": [
      "[[0 1 2]\n",
      " [3 4 5]]\n",
      "[[[0 1 2]]\n",
      "\n",
      " [[3 4 5]]]\n",
      "[[[[0 1 2]]]\n",
      "\n",
      "\n",
      " [[[3 4 5]]]]\n"
     ]
    }
   ],
   "source": [
    "# Advanced: raising the dimension\n",
    "a=np.arange(6).reshape(2,3)\n",
    "print(a) # a has 2 diemnsions\n",
    "print(a[:,np.newaxis]) # raising a to 3D\n",
    "print(a[:,np.newaxis,np.newaxis]) # raising a to 4D"
   ]
  },
  {
   "cell_type": "markdown",
   "metadata": {},
   "source": [
    "### 2. Aggregation"
   ]
  },
  {
   "cell_type": "code",
   "execution_count": 11,
   "metadata": {
    "collapsed": false
   },
   "outputs": [
    {
     "name": "stdout",
     "output_type": "stream",
     "text": [
      "[[ 8.   -1.  ]\n",
      " [ 4.    9.  ]\n",
      " [ 0.2   0.9 ]\n",
      " [-0.02  0.04]]\n",
      "[[ 8.   -1.    0.2   0.9 ]\n",
      " [ 4.    9.   -0.02  0.04]]\n"
     ]
    }
   ],
   "source": [
    "a=np.array([[8,-1],[4,9]])\n",
    "b=np.array([[0.2,0.9],[-0.02,0.04]])\n",
    "v=np.vstack((a,b)) # stack them vertically\n",
    "print(v)\n",
    "h=np.hstack((a,b)) # stack them horizontally\n",
    "print(h)"
   ]
  },
  {
   "cell_type": "markdown",
   "metadata": {},
   "source": [
    "### 3. Split"
   ]
  },
  {
   "cell_type": "code",
   "execution_count": 10,
   "metadata": {
    "collapsed": false
   },
   "outputs": [
    {
     "data": {
      "text/plain": [
       "[array([[ 8., -1.],\n",
       "        [ 4.,  9.]]), array([[ 0.2 ,  0.9 ],\n",
       "        [-0.02,  0.04]])]"
      ]
     },
     "execution_count": 10,
     "metadata": {},
     "output_type": "execute_result"
    }
   ],
   "source": [
    "np.hsplit(h,2) # split into 2 arrays\n",
    "np.vsplit(v,2) # slit after the columns"
   ]
  }
 ],
 "metadata": {
  "kernelspec": {
   "display_name": "Python [Root]",
   "language": "python",
   "name": "Python [Root]"
  },
  "language_info": {
   "codemirror_mode": {
    "name": "ipython",
    "version": 3
   },
   "file_extension": ".py",
   "mimetype": "text/x-python",
   "name": "python",
   "nbconvert_exporter": "python",
   "pygments_lexer": "ipython3",
   "version": "3.5.2"
  }
 },
 "nbformat": 4,
 "nbformat_minor": 0
}
