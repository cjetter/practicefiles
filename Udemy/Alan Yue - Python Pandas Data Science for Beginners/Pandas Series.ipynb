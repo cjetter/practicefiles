{
 "cells": [
  {
   "cell_type": "markdown",
   "metadata": {},
   "source": [
    "# PANDAS SERIES"
   ]
  },
  {
   "cell_type": "code",
   "execution_count": 4,
   "metadata": {
    "collapsed": true
   },
   "outputs": [],
   "source": [
    "# import the libraries\n",
    "import numpy as np\n",
    "import pandas as pd"
   ]
  },
  {
   "cell_type": "markdown",
   "metadata": {},
   "source": [
    "### creation"
   ]
  },
  {
   "cell_type": "code",
   "execution_count": 3,
   "metadata": {
    "collapsed": false
   },
   "outputs": [
    {
     "data": {
      "text/plain": [
       "h    0.252667\n",
       "e    0.871264\n",
       "l    0.220858\n",
       "l   -0.579579\n",
       "o   -0.569502\n",
       "dtype: float64"
      ]
     },
     "execution_count": 3,
     "metadata": {},
     "output_type": "execute_result"
    }
   ],
   "source": [
    "# from scalar value\n",
    "pd.Series(3.14) # by default, will just create 1 row\n",
    "pd.Series(3.14,index=['a','b','c']) # will match the length of index\n",
    "# from dict\n",
    "d = {'John':'Emma', \"Edward\": 'Molly', 'Alex': 'Iris'} # standard python dictonary\n",
    "pd.Series(d) # constructed with index\n",
    "# from ndarray\n",
    "arr=np.random.randn(5) # recall Numpy\n",
    "pd.Series(arr) # create with default index 1...len(array)-1\n",
    "pd.Series(arr,index=['h','e','l','l','o']) # create with your own index"
   ]
  },
  {
   "cell_type": "markdown",
   "metadata": {},
   "source": [
    "## operations"
   ]
  },
  {
   "cell_type": "code",
   "execution_count": 6,
   "metadata": {
    "collapsed": false
   },
   "outputs": [
    {
     "data": {
      "text/plain": [
       "0    1.297387\n",
       "1    2.240135\n",
       "2    0.157421\n",
       "3    0.147432\n",
       "4    3.151397\n",
       "dtype: float64"
      ]
     },
     "execution_count": 6,
     "metadata": {},
     "output_type": "execute_result"
    }
   ],
   "source": [
    "arr=np.random.randn(5) # recall Numpy\n",
    "srs=pd.Series(arr) # create with default index 1...len(array)-1\n",
    "srs[1] # pick one\n",
    "srs[2:] # slicing\n",
    "srs[[3,0,4]] # multiple selection\n",
    "srs **2 # calculation"
   ]
  }
 ],
 "metadata": {
  "kernelspec": {
   "display_name": "Python [Root]",
   "language": "python",
   "name": "Python [Root]"
  },
  "language_info": {
   "codemirror_mode": {
    "name": "ipython",
    "version": 3
   },
   "file_extension": ".py",
   "mimetype": "text/x-python",
   "name": "python",
   "nbconvert_exporter": "python",
   "pygments_lexer": "ipython3",
   "version": "3.5.2"
  }
 },
 "nbformat": 4,
 "nbformat_minor": 0
}
