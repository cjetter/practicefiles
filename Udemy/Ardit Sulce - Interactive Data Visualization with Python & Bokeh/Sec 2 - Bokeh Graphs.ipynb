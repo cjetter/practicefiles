{
 "cells": [
  {
   "cell_type": "code",
   "execution_count": 5,
   "metadata": {},
   "outputs": [],
   "source": [
    "#making a basic Bokeh graph via plotting interface\n",
    "\n",
    "#importing bokeh\n",
    "from bokeh.plotting import figure\n",
    "from bokeh.io import output_file, show\n",
    "\n",
    "# prepare some dummy data\n",
    "x = [1,2,3,4,5]\n",
    "y = [6,7,8,9,10]  ## there must be an equal amount of x y data points\n",
    "                  ## otherwise bokeh will throw an error\n",
    "\n",
    "# prepare the output file\n",
    "output_file(\"circle_plotting.html\")\n",
    "\n",
    "# create a figure object\n",
    "f = figure()\n",
    "\n",
    "# create line plot\n",
    "f.circle(x,y)\n",
    "\n",
    "show(f)"
   ]
  },
  {
   "cell_type": "code",
   "execution_count": 12,
   "metadata": {},
   "outputs": [],
   "source": [
    "#making a basic Bokeh graph via plotting models interface - lower level\n",
    "\n",
    "#importing bokeh\n",
    "from bokeh.models.glyphs import Circle\n",
    "from bokeh.models import Plot, ColumnDataSource, Range1d, Grid\n",
    "from bokeh.io import output_file, show\n",
    "\n",
    "# prepare some dummy data\n",
    "x = [1,2,3,4,5]\n",
    "y = [6,7,8,9,10]  ## there must be an equal amount of x y data points\n",
    "                  ## otherwise bokeh will throw an error\n",
    "data = ColumnDataSource(dict(x=x,y=y))\n",
    "\n",
    "# prepare the output file\n",
    "output_file(\"circle_models.html\")\n",
    "\n",
    "# create a figure object\n",
    "p = Plot(x_range = Range1d(start=0,end=6),y_range=Range1d(start=5,end=11))\n",
    "\n",
    "line = Circle(x='x',y='y')\n",
    "\n",
    "p.add_glyph(data,line)\n",
    "\n",
    "show(p)"
   ]
  },
  {
   "cell_type": "code",
   "execution_count": 17,
   "metadata": {},
   "outputs": [],
   "source": [
    "#making a basic Bokeh graph via charts interface\n",
    "\n",
    "#importing bokeh\n",
    "from bokeh.charts import Scatter\n",
    "from bokeh.io import output_file, show\n",
    "\n",
    "# prepare some dummy data\n",
    "x = [1,2,3,4,5]\n",
    "y = [6,7,8,9,10]  ## there must be an equal amount of x y data points\n",
    "                  ## otherwise bokeh will throw an error\n",
    "\n",
    "dict2 = dict(x=x,y=y)\n",
    "\n",
    "# prepare the output file\n",
    "output_file(\"circle_charts.html\")\n",
    "\n",
    "# create a figure object\n",
    "f = Scatter(dict2,\"x\",\"y\")\n",
    "\n",
    "show(f)"
   ]
  }
 ],
 "metadata": {
  "kernelspec": {
   "display_name": "Python 3",
   "language": "python",
   "name": "python3"
  },
  "language_info": {
   "codemirror_mode": {
    "name": "ipython",
    "version": 3
   },
   "file_extension": ".py",
   "mimetype": "text/x-python",
   "name": "python",
   "nbconvert_exporter": "python",
   "pygments_lexer": "ipython3",
   "version": "3.6.1"
  }
 },
 "nbformat": 4,
 "nbformat_minor": 2
}
