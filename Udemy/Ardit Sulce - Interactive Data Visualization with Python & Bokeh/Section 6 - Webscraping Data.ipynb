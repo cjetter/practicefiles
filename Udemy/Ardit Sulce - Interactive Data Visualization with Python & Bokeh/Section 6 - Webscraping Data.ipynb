{
 "cells": [
  {
   "cell_type": "code",
   "execution_count": 19,
   "metadata": {
    "collapsed": true
   },
   "outputs": [],
   "source": [
    "import pandas as pd"
   ]
  },
  {
   "cell_type": "code",
   "execution_count": 5,
   "metadata": {},
   "outputs": [
    {
     "ename": "TypeError",
     "evalue": "get() missing 1 required positional argument: 'url'",
     "output_type": "error",
     "traceback": [
      "\u001b[0;31m---------------------------------------------------------------------------\u001b[0m",
      "\u001b[0;31mTypeError\u001b[0m                                 Traceback (most recent call last)",
      "\u001b[0;32m<ipython-input-5-ac75f88f6ca4>\u001b[0m in \u001b[0;36m<module>\u001b[0;34m()\u001b[0m\n\u001b[1;32m      1\u001b[0m \u001b[0;32mimport\u001b[0m \u001b[0mrequests\u001b[0m\u001b[0;34m\u001b[0m\u001b[0m\n\u001b[0;32m----> 2\u001b[0;31m \u001b[0mdir\u001b[0m\u001b[0;34m(\u001b[0m\u001b[0mrequests\u001b[0m\u001b[0;34m.\u001b[0m\u001b[0mget\u001b[0m\u001b[0;34m(\u001b[0m\u001b[0;34m)\u001b[0m\u001b[0;34m)\u001b[0m\u001b[0;34m\u001b[0m\u001b[0m\n\u001b[0m",
      "\u001b[0;31mTypeError\u001b[0m: get() missing 1 required positional argument: 'url'"
     ]
    }
   ],
   "source": [
    "import requests\n",
    "dir(requests.get())"
   ]
  },
  {
   "cell_type": "code",
   "execution_count": 12,
   "metadata": {},
   "outputs": [],
   "source": [
    "import requests ## library used to load content of webpage as a stream in python\n",
    "from bs4 import BeautifulSoup\n",
    "\n",
    "# create request object\n",
    "'''\n",
    "for requests.get, you pass in url to scrape and headers\n",
    "'headers' parameter is used to circumvent restrictions on site that prevent scraping scripts by telling server \n",
    "you are using a web browser to visit the page\n",
    "\n",
    "a request object cannot be read... you must access its 'content' property to do so\n",
    "\n",
    "'''\n",
    "r = requests.get('http://bitcoincharts.com/markets/btcnCNY.html',headers={'User-Agent':'Mozilla/5.0'})\n",
    "c = r.content\n"
   ]
  },
  {
   "cell_type": "code",
   "execution_count": 40,
   "metadata": {},
   "outputs": [
    {
     "data": {
      "text/plain": [
       "[<p><label>Last Trade</label><span>17610.01</span></p>,\n",
       " <p><label>Best Bid</label><span>17590</span></p>,\n",
       " <p><label>Best Ask</label><span>17674</span></p>,\n",
       " <p><label>Trade Time</label><span>0 min ago</span></p>,\n",
       " <p><label>30-day Range</label><span>12880.01 — 20400</span></p>,\n",
       " <p><label>30-day Volume</label><span>316,089.698 BTC</span></p>,\n",
       " <p><label>30-day Volume (Currency)</label><span>5,472,431,455.22 CNY</span></p>,\n",
       " <p><label>Symbol</label><span>btcnCNY</span></p>,\n",
       " <p><label>Currency</label><span>CNY</span></p>,\n",
       " <p><label>Website</label><span><a href=\"https://btcchina.com/\" target=\"_blank\">https://btcchina.com/</a></span></p>,\n",
       " <p>\n",
       " <a href=\"/charts/btcnCNY\">\n",
       "     view larger chart\n",
       "   </a>\n",
       " </p>,\n",
       " <p><strong>y:</strong> Volume in BTC, <strong>x:</strong> price</p>,\n",
       " <p>We are interested in feedback! Email <a href=\"mailto:info@bitcoincharts.com\">info@bitcoincharts.com</a> any questions or comments you might have.</p>]"
      ]
     },
     "execution_count": 40,
     "metadata": {},
     "output_type": "execute_result"
    }
   ],
   "source": [
    "soup = BeautifulSoup(c,\"html.parser\")\n",
    "value_raw = list(soup.find_all(\"p\")"
   ]
  },
  {
   "cell_type": "code",
   "execution_count": 42,
   "metadata": {},
   "outputs": [
    {
     "data": {
      "text/plain": [
       "17610.01"
      ]
     },
     "execution_count": 42,
     "metadata": {},
     "output_type": "execute_result"
    }
   ],
   "source": [
    "value_net=float(value_raw[0].span.text)\n",
    "value_net"
   ]
  },
  {
   "cell_type": "code",
   "execution_count": null,
   "metadata": {
    "collapsed": true
   },
   "outputs": [],
   "source": [
    "## testing for passing all trading values into a df\n",
    "\n",
    "value_raw\n",
    "desc = []\n",
    "val = []\n",
    "print(type(value_raw))\n",
    "print(len(value_raw))\n",
    "for n in range(0,len(value_raw)):\n",
    "    text = value_raw[n].label.text\n",
    "    desc.append(text)\n",
    "    numb = value_raw[n].span.text\n",
    "    val.append(numb)\n",
    "print(desc)\n",
    "print(val)\n",
    "#df = pd.DataFrame()"
   ]
  }
 ],
 "metadata": {
  "kernelspec": {
   "display_name": "Python 3",
   "language": "python",
   "name": "python3"
  },
  "language_info": {
   "codemirror_mode": {
    "name": "ipython",
    "version": 3
   },
   "file_extension": ".py",
   "mimetype": "text/x-python",
   "name": "python",
   "nbconvert_exporter": "python",
   "pygments_lexer": "ipython3",
   "version": "3.6.1"
  }
 },
 "nbformat": 4,
 "nbformat_minor": 2
}
