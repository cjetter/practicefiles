{
 "cells": [
  {
   "cell_type": "markdown",
   "metadata": {},
   "source": [
    "# Files\n",
    "\n",
    "Python uses file objects to interact with external files on your computer. These file objects can be any sort of file you have on your computer, whether it be an audio file, a text file, emails, Excel documents, etc. Note: You will probably need to install certain libraries or modules to interact with those various file types, but they are easily available. (We will cover downloading modules later on in the course).\n",
    "\n",
    "Python has a built-in open function that allows us to open and play with basic file types. First we will need a file though. We're going to use some iPython magic to create a text file!\n",
    "\n",
    "## iPython Writing a File"
   ]
  },
  {
   "cell_type": "code",
   "execution_count": 73,
   "metadata": {},
   "outputs": [
    {
     "ename": "TypeError",
     "evalue": "write() argument must be str, not tuple",
     "output_type": "error",
     "traceback": [
      "\u001b[0;31m---------------------------------------------------------------------------\u001b[0m",
      "\u001b[0;31mTypeError\u001b[0m                                 Traceback (most recent call last)",
      "\u001b[0;32m<ipython-input-73-8d478b4f49d7>\u001b[0m in \u001b[0;36m<module>\u001b[0;34m()\u001b[0m\n\u001b[1;32m      1\u001b[0m \u001b[0mfh\u001b[0m \u001b[0;34m=\u001b[0m \u001b[0mopen\u001b[0m\u001b[0;34m(\u001b[0m\u001b[0;34m'test.txt'\u001b[0m\u001b[0;34m,\u001b[0m\u001b[0;34m'a'\u001b[0m\u001b[0;34m)\u001b[0m\u001b[0;34m\u001b[0m\u001b[0m\n\u001b[0;32m----> 2\u001b[0;31m \u001b[0mfh\u001b[0m\u001b[0;34m.\u001b[0m\u001b[0mwrite\u001b[0m\u001b[0;34m(\u001b[0m\u001b[0;34m(\u001b[0m\u001b[0;34m'\\ntttttttt'\u001b[0m\u001b[0;34m,\u001b[0m\u001b[0;34m'asdasd'\u001b[0m\u001b[0;34m)\u001b[0m\u001b[0;34m)\u001b[0m\u001b[0;34m\u001b[0m\u001b[0m\n\u001b[0m\u001b[1;32m      3\u001b[0m \u001b[0mfh\u001b[0m\u001b[0;34m.\u001b[0m\u001b[0mclose\u001b[0m\u001b[0;34m(\u001b[0m\u001b[0;34m)\u001b[0m\u001b[0;34m\u001b[0m\u001b[0m\n\u001b[1;32m      4\u001b[0m \u001b[0mfh\u001b[0m \u001b[0;34m=\u001b[0m\u001b[0mopen\u001b[0m\u001b[0;34m(\u001b[0m\u001b[0;34m'test.txt'\u001b[0m\u001b[0;34m)\u001b[0m\u001b[0;34m\u001b[0m\u001b[0m\n\u001b[1;32m      5\u001b[0m \u001b[0mfh\u001b[0m\u001b[0;34m.\u001b[0m\u001b[0mread\u001b[0m\u001b[0;34m(\u001b[0m\u001b[0;34m)\u001b[0m\u001b[0;34m\u001b[0m\u001b[0m\n",
      "\u001b[0;31mTypeError\u001b[0m: write() argument must be str, not tuple"
     ]
    }
   ],
   "source": [
    "fh = open('test.txt','a')\n",
    "fh.write(('\\ntttttttt','asdasd'))\n",
    "fh.close()\n",
    "fh =open('test.txt')\n",
    "fh.read()"
   ]
  },
  {
   "cell_type": "code",
   "execution_count": 46,
   "metadata": {},
   "outputs": [
    {
     "name": "stdout",
     "output_type": "stream",
     "text": [
      "Overwriting test.txt\n"
     ]
    }
   ],
   "source": [
    "%%writefile test.txt\n",
    "Hello, this is not a quick test file"
   ]
  },
  {
   "cell_type": "markdown",
   "metadata": {},
   "source": [
    "## Python Opening a file\n",
    "\n",
    "We can open a file with the open() function. The open function also takes in arguments (also called parameters). Lets see how this is used:"
   ]
  },
  {
   "cell_type": "code",
   "execution_count": 16,
   "metadata": {
    "collapsed": true
   },
   "outputs": [],
   "source": [
    "# Open the text.txt we made earlier\n",
    "my_file = open('test.txt')"
   ]
  },
  {
   "cell_type": "code",
   "execution_count": 17,
   "metadata": {},
   "outputs": [
    {
     "data": {
      "text/plain": [
       "'Hello, this is not a quick test file'"
      ]
     },
     "execution_count": 17,
     "metadata": {},
     "output_type": "execute_result"
    }
   ],
   "source": [
    "# We can now read the file\n",
    "my_file.read()"
   ]
  },
  {
   "cell_type": "code",
   "execution_count": 18,
   "metadata": {},
   "outputs": [
    {
     "data": {
      "text/plain": [
       "''"
      ]
     },
     "execution_count": 18,
     "metadata": {},
     "output_type": "execute_result"
    }
   ],
   "source": [
    "# But what happens if we try to read it again?\n",
    "my_file.read()"
   ]
  },
  {
   "cell_type": "markdown",
   "metadata": {},
   "source": [
    "This happens because you can imagine the reading \"cursor\" is at the end of the file after having read it. So there is nothing left to read. We can reset the \"cursor\" like this:"
   ]
  },
  {
   "cell_type": "code",
   "execution_count": 44,
   "metadata": {},
   "outputs": [
    {
     "data": {
      "text/plain": [
       "0"
      ]
     },
     "execution_count": 44,
     "metadata": {},
     "output_type": "execute_result"
    }
   ],
   "source": [
    "# Seek to the start of file (index 0)\n",
    "my_file.seek(0)"
   ]
  },
  {
   "cell_type": "code",
   "execution_count": 21,
   "metadata": {},
   "outputs": [
    {
     "data": {
      "text/plain": [
       "''"
      ]
     },
     "execution_count": 21,
     "metadata": {},
     "output_type": "execute_result"
    }
   ],
   "source": [
    "# Now read again\n",
    "my_file.read()"
   ]
  },
  {
   "cell_type": "markdown",
   "metadata": {},
   "source": [
    "In order to not have to reset every time, we can also use the readlines method. Use caution with large files, since everything will be held in memory. We will learn how to iterate over large files later in the course."
   ]
  },
  {
   "cell_type": "code",
   "execution_count": 27,
   "metadata": {},
   "outputs": [
    {
     "data": {
      "text/plain": [
       "['Hello, this is not a quick test file']"
      ]
     },
     "execution_count": 27,
     "metadata": {},
     "output_type": "execute_result"
    }
   ],
   "source": [
    "# Readlines returns a list of the lines in the file.\n",
    "my_file.readlines()"
   ]
  },
  {
   "cell_type": "markdown",
   "metadata": {},
   "source": [
    "## Writing to a File\n",
    "\n",
    "By default, using the open() function will only allow us to read the file, we need to pass the argument 'w' to write over the file. For example:"
   ]
  },
  {
   "cell_type": "code",
   "execution_count": 41,
   "metadata": {
    "collapsed": true
   },
   "outputs": [],
   "source": [
    "# Add a second argument to the function, 'w' which stands for write\n",
    "my_file = open('test.txt','w+')"
   ]
  },
  {
   "cell_type": "code",
   "execution_count": 42,
   "metadata": {},
   "outputs": [
    {
     "data": {
      "text/plain": [
       "18"
      ]
     },
     "execution_count": 42,
     "metadata": {},
     "output_type": "execute_result"
    }
   ],
   "source": [
    "# Write to the file\n",
    "my_file.write('This is a new line')"
   ]
  },
  {
   "cell_type": "code",
   "execution_count": 45,
   "metadata": {},
   "outputs": [
    {
     "data": {
      "text/plain": [
       "'This is a new line'"
      ]
     },
     "execution_count": 45,
     "metadata": {},
     "output_type": "execute_result"
    }
   ],
   "source": [
    "# Read the file\n",
    "my_file.read()"
   ]
  },
  {
   "cell_type": "markdown",
   "metadata": {},
   "source": [
    "## Iterating through a File\n",
    "\n",
    "Lets get a quick preview of a for loop by iterating over a text file. First let's make a new text file with some iPython Magic:"
   ]
  },
  {
   "cell_type": "code",
   "execution_count": 7,
   "metadata": {},
   "outputs": [
    {
     "name": "stdout",
     "output_type": "stream",
     "text": [
      "Overwriting test.txt\n"
     ]
    }
   ],
   "source": [
    "%%writefile test.txt\n",
    "First Line\n",
    "Second Line"
   ]
  },
  {
   "cell_type": "markdown",
   "metadata": {},
   "source": [
    "Now we can use a little bit of flow to tell the program to for through every line of the file and do something:"
   ]
  },
  {
   "cell_type": "code",
   "execution_count": 9,
   "metadata": {},
   "outputs": [
    {
     "name": "stdout",
     "output_type": "stream",
     "text": [
      "First Line\n",
      "\n",
      "Second Line\n"
     ]
    }
   ],
   "source": [
    "for line in open('test.txt'):\n",
    "    print (line)"
   ]
  },
  {
   "cell_type": "markdown",
   "metadata": {},
   "source": [
    "Don't worry about fully understanding this yet, for loops are coming up soon. But we'll break down what we did above. We said that for every line in this text file, go ahead and print that line. Its important to note a few things here:\n",
    "\n",
    "    1.) We could have called the 'line' object anything (see example below).\n",
    "    2.) By not calling .read() on the file, the whole text file was not stored in memory.\n",
    "    3.) Notice the indent on the second line for print. This whitespace is required in Python.\n",
    "\n",
    "We'll learn a lot more about this later, but up next: Sets and Booleans!"
   ]
  },
  {
   "cell_type": "code",
   "execution_count": 11,
   "metadata": {},
   "outputs": [
    {
     "ename": "NameError",
     "evalue": "name 'trim' is not defined",
     "output_type": "error",
     "traceback": [
      "\u001b[0;31m---------------------------------------------------------------------------\u001b[0m",
      "\u001b[0;31mNameError\u001b[0m                                 Traceback (most recent call last)",
      "\u001b[0;32m<ipython-input-11-d9cc042616ce>\u001b[0m in \u001b[0;36m<module>\u001b[0;34m()\u001b[0m\n\u001b[1;32m      1\u001b[0m \u001b[0;31m# Pertaining to the first point above\u001b[0m\u001b[0;34m\u001b[0m\u001b[0;34m\u001b[0m\u001b[0m\n\u001b[1;32m      2\u001b[0m \u001b[0;32mfor\u001b[0m \u001b[0masdf\u001b[0m \u001b[0;32min\u001b[0m \u001b[0mopen\u001b[0m\u001b[0;34m(\u001b[0m\u001b[0;34m'test.txt'\u001b[0m\u001b[0;34m)\u001b[0m\u001b[0;34m:\u001b[0m\u001b[0;34m\u001b[0m\u001b[0m\n\u001b[0;32m----> 3\u001b[0;31m     \u001b[0mprint\u001b[0m \u001b[0;34m(\u001b[0m\u001b[0mtrim\u001b[0m\u001b[0;34m(\u001b[0m\u001b[0masdf\u001b[0m\u001b[0;34m)\u001b[0m\u001b[0;34m)\u001b[0m\u001b[0;34m\u001b[0m\u001b[0m\n\u001b[0m",
      "\u001b[0;31mNameError\u001b[0m: name 'trim' is not defined"
     ]
    }
   ],
   "source": [
    "# Pertaining to the first point above\n",
    "for asdf in open('test.txt'):\n",
    "    print (trim(asdf))"
   ]
  },
  {
   "cell_type": "code",
   "execution_count": 13,
   "metadata": {},
   "outputs": [
    {
     "name": "stdout",
     "output_type": "stream",
     "text": [
      "\u001b[31mAdvanced Dictionaries.ipynb\u001b[m\u001b[m*\r\n",
      "\u001b[31mAdvanced Functions Test Solutions.ipynb\u001b[m\u001b[m*\r\n",
      "\u001b[31mAdvanced Functions Test.ipynb\u001b[m\u001b[m*\r\n",
      "\u001b[31mAdvanced Lists.ipynb\u001b[m\u001b[m*\r\n",
      "\u001b[31mAdvanced Numbers.ipynb\u001b[m\u001b[m*\r\n",
      "\u001b[31mAdvanced Python Objects - Test - Solutions.ipynb\u001b[m\u001b[m*\r\n",
      "\u001b[31mAdvanced Python Objects - Test.ipynb\u001b[m\u001b[m*\r\n",
      "\u001b[31mAdvanced Sets.ipynb\u001b[m\u001b[m*\r\n",
      "\u001b[31mAdvanced Strings.ipynb\u001b[m\u001b[m*\r\n",
      "\u001b[31mAll() and any().ipynb\u001b[m\u001b[m*\r\n",
      "\u001b[31mChained Comparison Operators.ipynb\u001b[m\u001b[m*\r\n",
      "\u001b[31mCollections Module.ipynb\u001b[m\u001b[m*\r\n",
      "\u001b[31mComparison Operators.ipynb\u001b[m\u001b[m*\r\n",
      "\u001b[31mComplex.ipynb\u001b[m\u001b[m*\r\n",
      "\u001b[31mDatetime.ipynb\u001b[m\u001b[m*\r\n",
      "\u001b[31mDecorators Homework.ipynb\u001b[m\u001b[m*\r\n",
      "\u001b[31mDecorators.ipynb\u001b[m\u001b[m*\r\n",
      "\u001b[31mDictionaries.ipynb\u001b[m\u001b[m*\r\n",
      "\u001b[31mEnumerate.ipynb\u001b[m\u001b[m*\r\n",
      "\u001b[31mErrors and Exceptions Handling.ipynb\u001b[m\u001b[m*\r\n",
      "\u001b[31mErrors and Exceptions Homework - Solution.ipynb\u001b[m\u001b[m*\r\n",
      "\u001b[31mErrors and Exceptions Homework.ipynb\u001b[m\u001b[m*\r\n",
      "\u001b[31mFAQ.ipynb\u001b[m\u001b[m*\r\n",
      "\u001b[31mFiles.ipynb\u001b[m\u001b[m*\r\n",
      "\u001b[31mFilter.ipynb\u001b[m\u001b[m*\r\n",
      "\u001b[31mFinal Capstone Project.ipynb\u001b[m\u001b[m*\r\n",
      "\u001b[34mFinal Capstone Projects\u001b[m\u001b[m/\r\n",
      "\u001b[31mFor Loops.ipynb\u001b[m\u001b[m*\r\n",
      "\u001b[31mFunctions and Methods Homework - Solutions.ipynb\u001b[m\u001b[m*\r\n",
      "\u001b[31mFunctions and Methods Homework.ipynb\u001b[m\u001b[m*\r\n",
      "\u001b[31mFunctions.ipynb\u001b[m\u001b[m*\r\n",
      "\u001b[34mGUI\u001b[m\u001b[m/\r\n",
      "\u001b[31mIf, elif, and else Statements.ipynb\u001b[m\u001b[m*\r\n",
      "\u001b[31mIntroduction to Python Statements.ipynb\u001b[m\u001b[m*\r\n",
      "\u001b[31mIterators and Generators Homework - Solution.ipynb\u001b[m\u001b[m*\r\n",
      "\u001b[31mIterators and Generators Homework.ipynb\u001b[m\u001b[m*\r\n",
      "\u001b[31mIterators and Generators.ipynb\u001b[m\u001b[m*\r\n",
      "\u001b[31mJupyter (iPython) Notebooks Guide.ipynb\u001b[m\u001b[m*\r\n",
      "\u001b[31mLambda expressions.ipynb\u001b[m\u001b[m*\r\n",
      "\u001b[31mList Comprehensions.ipynb\u001b[m\u001b[m*\r\n",
      "\u001b[31mLists.ipynb\u001b[m\u001b[m*\r\n",
      "\u001b[31mMap.ipynb\u001b[m\u001b[m*\r\n",
      "\u001b[31mMethods.ipynb\u001b[m\u001b[m*\r\n",
      "\u001b[31mMilestone Project 1 - Advanced Solution.ipynb\u001b[m\u001b[m*\r\n",
      "\u001b[31mMilestone Project 1- Assignment.ipynb\u001b[m\u001b[m*\r\n",
      "\u001b[31mMilestone Project 1- Complete Walkthrough Solution.ipynb\u001b[m\u001b[m*\r\n",
      "\u001b[31mMilestone Project 1- Walkthrough Steps Workbook.ipynb\u001b[m\u001b[m*\r\n",
      "\u001b[31mMilestone Project 2 - Assignment.ipynb\u001b[m\u001b[m*\r\n",
      "\u001b[31mMilestone Project 2 Solution.ipynb\u001b[m\u001b[m*\r\n",
      "\u001b[31mModules and Packages.ipynb\u001b[m\u001b[m*\r\n",
      "\u001b[31mMultiProcessing.ipynb\u001b[m\u001b[m*\r\n",
      "\u001b[31mNested Statements and Scope.ipynb\u001b[m\u001b[m*\r\n",
      "\u001b[31mNumbers.ipynb\u001b[m\u001b[m*\r\n",
      "\u001b[31mObject Oriented Programming Homework -Assignment.ipynb\u001b[m\u001b[m*\r\n",
      "\u001b[31mObject Oriented Programming Homework -Solution.ipynb\u001b[m\u001b[m*\r\n",
      "\u001b[31mObject Oriented Programming.ipynb\u001b[m\u001b[m*\r\n",
      "\u001b[31mObjects and Data Structures Assessment Test-Solution.ipynb\u001b[m\u001b[m*\r\n",
      "\u001b[31mObjects and Data Structures Assessment Test.ipynb\u001b[m\u001b[m*\r\n",
      "\u001b[31mPrint Formatting.ipynb\u001b[m\u001b[m*\r\n",
      "\u001b[31mPython Debugger (pdb).ipynb\u001b[m\u001b[m*\r\n",
      "\u001b[31mREADME.md\u001b[m\u001b[m*\r\n",
      "\u001b[31mRange().ipynb\u001b[m\u001b[m*\r\n",
      "\u001b[31mReduce.ipynb\u001b[m\u001b[m*\r\n",
      "\u001b[31mRegular Expressions.ipynb\u001b[m\u001b[m*\r\n",
      "\u001b[31mSets and Booleans.ipynb\u001b[m\u001b[m*\r\n",
      "\u001b[31mStatements Assessment Test - Solutions.ipynb\u001b[m\u001b[m*\r\n",
      "\u001b[31mStatements Assessment Test.ipynb\u001b[m\u001b[m*\r\n",
      "\u001b[31mStringIO.ipynb\u001b[m\u001b[m*\r\n",
      "\u001b[31mStrings.ipynb\u001b[m\u001b[m*\r\n",
      "\u001b[31mTiming your code - timeit.ipynb\u001b[m\u001b[m*\r\n",
      "\u001b[31mTuples.ipynb\u001b[m\u001b[m*\r\n",
      "\u001b[31mVariable Assignment.ipynb\u001b[m\u001b[m*\r\n",
      "\u001b[31mWhile loops.ipynb\u001b[m\u001b[m*\r\n",
      "\u001b[31mZip.ipynb\u001b[m\u001b[m*\r\n",
      "\u001b[31mtest.txt\u001b[m\u001b[m*\r\n",
      "test2.txt\r\n",
      "\u001b[31mtestfile\u001b[m\u001b[m*\r\n"
     ]
    }
   ],
   "source": [
    "ls\n"
   ]
  }
 ],
 "metadata": {
  "kernelspec": {
   "display_name": "Python 3",
   "language": "python",
   "name": "python3"
  },
  "language_info": {
   "codemirror_mode": {
    "name": "ipython",
    "version": 3
   },
   "file_extension": ".py",
   "mimetype": "text/x-python",
   "name": "python",
   "nbconvert_exporter": "python",
   "pygments_lexer": "ipython3",
   "version": "3.6.1"
  }
 },
 "nbformat": 4,
 "nbformat_minor": 1
}
