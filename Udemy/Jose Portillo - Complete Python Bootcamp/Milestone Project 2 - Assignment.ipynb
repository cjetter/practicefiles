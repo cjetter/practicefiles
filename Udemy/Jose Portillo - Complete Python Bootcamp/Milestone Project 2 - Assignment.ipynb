{
 "cells": [
  {
   "cell_type": "markdown",
   "metadata": {},
   "source": [
    "#Milestone Project 2 - Blackjack Game\n",
    "In this milestone project you will be creating a Complete BlackJack Card Game in Python.\n",
    "\n",
    "Here are the requirements:\n",
    "\n",
    "* You need to create a simple text-based [BlackJack](https://en.wikipedia.org/wiki/Blackjack) game\n",
    "* The game needs to have one player versus an automated dealer.\n",
    "* The player can stand or hit.\n",
    "* The player must be able to pick their betting amount.\n",
    "* You need to keep track of the players total money.\n",
    "* You need to alert the player of wins, losses, or busts, etc...\n",
    "\n",
    "And most importantly:\n",
    "\n",
    "* **You must use OOP and classes in some portion of your game. You can not just use functions in your game. Use classes to help you define the Deck and the Player's hand. There are many right ways to do this, so explore it well!**\n",
    "\n",
    "\n",
    "Feel free to expand this game-try including multiple players. Try adding in Double-Down and card splits! Remember to you are free to use any resources you want and as always:\n",
    "\n",
    "# HAVE FUN!"
   ]
  },
  {
   "cell_type": "code",
   "execution_count": null,
   "metadata": {
    "collapsed": true
   },
   "outputs": [],
   "source": []
  },
  {
   "cell_type": "markdown",
   "metadata": {},
   "source": [
    "## Supporting Code Blocks - Classes and Functions (ordered according to code structure)"
   ]
  },
  {
   "cell_type": "markdown",
   "metadata": {},
   "source": [
    "#### Code block to import libraries and define global variables"
   ]
  },
  {
   "cell_type": "code",
   "execution_count": 38,
   "metadata": {
    "collapsed": true
   },
   "outputs": [],
   "source": [
    "# import libraries\n",
    "from IPython.display import clear_output # Specifically for the Jupyter Notebook environment\n",
    "import pandas as pd\n",
    "import sys"
   ]
  },
  {
   "cell_type": "markdown",
   "metadata": {},
   "source": [
    "#### Code block to define Player class"
   ]
  },
  {
   "cell_type": "code",
   "execution_count": 39,
   "metadata": {
    "collapsed": true
   },
   "outputs": [],
   "source": [
    "# Define class for players\n",
    "class Player(object):\n",
    "    '''\n",
    "    Common base class for all players\n",
    "    \n",
    "    Attributes:\n",
    "    Name = string representation of player's name\n",
    "    Bankroll = integral representation of bankroll balance with which player places bets\n",
    "    Current Bet = integral representation of bet placed each round\n",
    "    Card Total = integral representation of running total of points prior to player signalling 'stand' or busting\n",
    "    Cards = list representing cards held be player\n",
    "    '''\n",
    "    ## Class level attribute to track number of players\n",
    "    playerCount = 0\n",
    "    \n",
    "    ## instantiation of new player from Player class\n",
    "    def __init__(self, name, bankroll=100,currentBet=0,cardTotal = 0,cards=[]):\n",
    "        self.name = name\n",
    "        self.bankroll = bankroll\n",
    "        self.currentBet = currentBet\n",
    "        self.cardTotal = cardTotal\n",
    "        cards = []\n",
    "        self.cards = cards\n",
    "        Player.playerCount +=1\n",
    "        \n",
    "    def return_total(self):\n",
    "        'Function to extact total card count per round'\n",
    "        return self.cardTotal\n",
    "    \n",
    "    def return_amount(self):\n",
    "        'Function to extact total amount bet per round'\n",
    "        return self.currentBet\n",
    "    \n",
    "    def place_bet(self):\n",
    "        \"Class method to establish amount player will bet, not to exceed balance\"\n",
    "        while True:\n",
    "            if self.bankroll <= 5:\n",
    "                print('Automatic bet of {} due to insufficient funds for minimum bet'.format(self.bankroll))\n",
    "                self.currentBet = int(self.bankroll)\n",
    "                break\n",
    "            else:\n",
    "                try:\n",
    "                    bet = int(input('Please enter amount of bet: '))\n",
    "                except:\n",
    "                    print('Invalid entry. Please enter a whole dollar amount represented by an integer.')\n",
    "                    continue\n",
    "                else:\n",
    "                    if bet > self.bankroll:\n",
    "                        print('Insufficient funds to cover bet. Please select another amount. \\nCurrent bankroll balance is: {}'.format(self.bankroll))\n",
    "                        continue\n",
    "                    elif bet < 5:\n",
    "                        print('Please enter a minimum bet of $5. \\nCurrent bankroll balance is: {}'.format(self.bankroll))\n",
    "                        continue\n",
    "                    else:\n",
    "                        self.currentBet = bet\n",
    "                        break\n",
    "    \n",
    "    def adj_bankroll(self, amount):\n",
    "        \"Class method to increase or decrease player's bankroll balance for bet.\"\n",
    "        self.bankroll += amount\n",
    "        #print('{} has a current bankroll balance of: {}'.format(self.name,self.bankroll))\n",
    "    \n",
    "    def accept_card(self,card):\n",
    "        'Class method to register cards held by player'\n",
    "        self.cards.append(card)\n",
    "    \n",
    "    def track_cardTotal(self,pointvalue):\n",
    "        if type(pointvalue) == tuple:\n",
    "            if self.cardTotal + 11 > 21:\n",
    "                pointvalue = 1\n",
    "            else:\n",
    "                pointvalue = 11\n",
    "        self.cardTotal += pointvalue\n",
    "        if self.cardTotal > 21:\n",
    "            print('Total exceeds 21. {} has gone bust.'.format(self.name.capitalize()))\n",
    "        else:\n",
    "            print(\"{}'s new running total is {}.\".format(self.name.capitalize(),self.cardTotal))    "
   ]
  },
  {
   "cell_type": "markdown",
   "metadata": {},
   "source": [
    "#### Code block to define Deck class"
   ]
  },
  {
   "cell_type": "code",
   "execution_count": 40,
   "metadata": {
    "collapsed": true
   },
   "outputs": [],
   "source": [
    "# Define class for deck of cards\n",
    "class Deck(object):\n",
    "    '''\n",
    "    Object to represent deck of cards\n",
    "    \n",
    "    Attributes:\n",
    "    - Number of Decks = integer representing the number of decks used in the game. Default is 1 unless\n",
    "      otherwise specified.\n",
    "    - Deck = list of all 52 cards in deck multiplied by number of decks\n",
    "    - Dealing_Order = list of shuffled integers to represent each unique card in deck(s) and simulate random dealing\n",
    "    '''\n",
    "    def __init__(self, no_of_decks=1, deck=[], dealing_order =[]):\n",
    "        self.no_of_decks = no_of_decks  # default is one\n",
    "        suits = ['Hearts','Diamonds','Spades','Clubs']\n",
    "        cards = ['Two','Three','Four','Five','Six','Seven','Eight','Nine','Ten','Jack','Queen','King','Ace']\n",
    "        deck_faces = []\n",
    "        for i in suits:\n",
    "            for n in cards:\n",
    "                deck_faces.append(n+' of '+i)\n",
    "        deck_faces = deck_faces\n",
    "        deck_points = [2,3,4,5,6,7,8,9,10,10,10,10,(1,11)]*4\n",
    "        deck = []\n",
    "        deck = list(zip(deck_faces,deck_points))\n",
    "        self.deck = deck*self.no_of_decks\n",
    "        from random import shuffle\n",
    "        dealing_order = list(range(0,52*self.no_of_decks))\n",
    "        shuffle(dealing_order)\n",
    "        self.dealing_order = dealing_order        \n",
    "        \n",
    "    def deal(self):\n",
    "        '''\n",
    "        Method of Deck class to randomly deal one card from the deck until all 52 cards have been dealt.\n",
    "        '''\n",
    "        try:\n",
    "            no_dealt = self.dealing_order.pop()\n",
    "        except:\n",
    "            #global gameover\n",
    "            sys.exit('All cards within the deck(s) have been dealt')\n",
    "            #gameover = True\n",
    "        card = self.deck[no_dealt]\n",
    "        return card     "
   ]
  },
  {
   "cell_type": "markdown",
   "metadata": {},
   "source": [
    "#### Code block to print instructions"
   ]
  },
  {
   "cell_type": "code",
   "execution_count": 41,
   "metadata": {
    "collapsed": true
   },
   "outputs": [],
   "source": [
    "# function to call instructions\n",
    "def instructions():\n",
    "    print('''                   ########### WELCOME TO BLACKJACK ############\n",
    "    \n",
    "    Objective: Each player attempts to beat the dealer by getting a count as close to 21 as \\npossible, without going over 21.\n",
    "    \n",
    "    Instructions for game:\n",
    "    1)  Select the number of players between 1 and 4 and the number of decks between 1 and 5 to be used.\n",
    "    2)  Enter player information.\n",
    "    3)  Players place first bet.\n",
    "    4)  When all the players have placed their bets, the dealer gives one card face up to each player, \n",
    "        and then one card face up to itself. \n",
    "    5)  Another round of cards is then dealt face up to each player, but the dealer takes its second card \n",
    "        face down. \n",
    "    6)  Each player in turn decides to 'stand' or 'hit' one or multiple times.\n",
    "    7)  If the player chooses 'hit' and goes bust, the player loses and the dealer collects the bet wagered.\n",
    "    8)  When the dealer has served every player, its face-down card is turned up and each player's card total \n",
    "        is compared to dealer's.\n",
    "    9)  According to results, dealer pays or collects bets.\n",
    "    10) Players specify whether they will play another round or end the game.\n",
    "    11) Final score is tallied.\n",
    "    \n",
    "    Rules:\n",
    "    1)  Aces are worth 1 or 11 according to player's choice. Game logic will assume 11 unless the treatment \n",
    "        would result in a bust.\n",
    "    2)  Face cards are worth 10 and any other card is its face value.\n",
    "    3)  All players begin with a bankroll of $100. No additional amounts may be contributed. Minimum $10 bet\n",
    "        per round.\n",
    "    4)  When the dealer's face-down card is turned up, If the total is 17 or more, it must stand. \n",
    "        If the total is 16 or under, it must take a card and must continue taking cards until the \n",
    "        total is 17 or more, at which point the dealer must stand. If the dealer has an ace, and counting \n",
    "        it as 11 would bring its total to 17 or more (but not over 21), it must count the ace as 11 \n",
    "        and stand. Thus, the dealer's decisions are automatic on all plays, whereas the player always \n",
    "        has the option of taking one or more cards.\n",
    "    5)  If the player goes bust, she has already lost her wager, even if the dealer goes bust as well.\n",
    "    6)  If the dealer goes over 21, it pays each player who has stood the amount of that player's bet. \n",
    "    7)  If the dealer stands at 21 or less, it pays the bet of any player having a higher total \n",
    "        (not exceeding 21) and collects the bet of any player having a lower total. \n",
    "    8)  If there is a stand-off (a player having the same total as the dealer), no chips are paid out \n",
    "        or collected.\n",
    "    9)  Game ends when no player has funds to bet, deck has been completely dealt out, or at election by\n",
    "        players.\\n\\n\n",
    "    ''')\n",
    "    \n",
    "    while True:\n",
    "        hold_or_hit = input(\"Whenever you're ready to begin, please enter 'yes' \".capitalize())            \n",
    "        if hold_or_hit.lower().startswith('y'): \n",
    "            clear_output()\n",
    "            break\n",
    "        else: continue"
   ]
  },
  {
   "cell_type": "markdown",
   "metadata": {},
   "source": [
    "#### Function to set up game"
   ]
  },
  {
   "cell_type": "code",
   "execution_count": 42,
   "metadata": {
    "collapsed": true
   },
   "outputs": [],
   "source": [
    "def game_setup():\n",
    "    ## print title and instructions\n",
    "    instructions()\n",
    "\n",
    "    #Select the number of players between 1 and 4\n",
    "    while True:\n",
    "        try:\n",
    "            totalPlayers = int(input('Number of players: '))\n",
    "        except:\n",
    "            print('Invalid entry, you must enter an integer between 1 and 4.')\n",
    "            continue\n",
    "        else:\n",
    "            if totalPlayers>4 or totalPlayers<1:\n",
    "                print('Invalid entry. Please enter a number between 1 and 4.')\n",
    "                continue\n",
    "            else:\n",
    "                break\n",
    "\n",
    "    #Enter player information\n",
    "    global player_dict\n",
    "    for n in range(totalPlayers):\n",
    "        name = input('Please input name of Player {}: '.format(n+1))\n",
    "        player_dict[\"player_{}\".format(n+1)] = Player(name = name)\n",
    "\n",
    "    # Create dealer and add to dictionary\n",
    "    player_dict[\"Dealer\"] = Player(name='Dealer',bankroll=0)\n",
    "\n",
    "    # Select number of decks to be used\n",
    "    while True:\n",
    "        try:\n",
    "            nodecks = int(input('Number of decks between 1 and 5: '))\n",
    "        except:\n",
    "            print('Invalid entry, you must enter an integer between 1 and 5.')\n",
    "            continue\n",
    "        else:\n",
    "            if nodecks>5 or nodecks<1:\n",
    "                print('Invalid entry. Please enter a number between 1 and 5.')\n",
    "                continue\n",
    "            else:\n",
    "                break\n",
    "\n",
    "    ## create deck object\n",
    "    global d\n",
    "    d = Deck(no_of_decks=nodecks) "
   ]
  },
  {
   "cell_type": "markdown",
   "metadata": {},
   "source": [
    "#### Code block for print tally function"
   ]
  },
  {
   "cell_type": "code",
   "execution_count": 43,
   "metadata": {
    "collapsed": true
   },
   "outputs": [],
   "source": [
    "def print_tally():\n",
    "    ''' This function prints out the scoreboard of current stats. Pass in dictionary'''\n",
    "    global player_dict\n",
    "    # Print board    \n",
    "    players = [key for key in player_dict.keys()]\n",
    "    names = [i.name for i in player_dict.values()]\n",
    "    bankrolls = [i.bankroll for i in player_dict.values()]\n",
    "    bets = [i.currentBet for i in player_dict.values()]\n",
    "    totals = [i.cardTotal for i in player_dict.values()]\n",
    "    cards = [i.cards for i in player_dict.values()]\n",
    "    my_dict = {\"Player's Name\" : pd.Series(names, index=players),\n",
    "         'Current Balance': pd.Series(bankrolls, index=players),\n",
    "         'Current Bet': pd.Series(bets, index=players),\n",
    "         'Running Total': pd.Series(totals, index=players),\n",
    "         'Cards Dealt':pd.Series(cards, index = players)\n",
    "        }\n",
    "    df_scores = pd.DataFrame(my_dict,columns=[\"Player's Name\",'Current Balance','Current Bet','Running Total','Cards Dealt'])\n",
    "    print(df_scores.iloc[:,:4],'\\n')\n",
    "    print(df_scores['Cards Dealt'])"
   ]
  },
  {
   "cell_type": "markdown",
   "metadata": {},
   "source": [
    "#### Code block for bid placement"
   ]
  },
  {
   "cell_type": "code",
   "execution_count": 44,
   "metadata": {
    "collapsed": true
   },
   "outputs": [],
   "source": [
    "def accept_bids():\n",
    "    #Each player places his or her bid\n",
    "    global player_dict, gameover\n",
    "    clear_output()\n",
    "    print_tally()\n",
    "    for i in list(player_dict.values())[:(len(player_dict)-1)]:\n",
    "        print(\"\\n{}'s Turn: \".format(i.name.capitalize()))\n",
    "        i.place_bet()\n",
    "        clear_output()\n",
    "        print_tally()"
   ]
  },
  {
   "cell_type": "markdown",
   "metadata": {},
   "source": [
    "#### Code block for dealing (all rounds)"
   ]
  },
  {
   "cell_type": "code",
   "execution_count": 45,
   "metadata": {
    "collapsed": true
   },
   "outputs": [],
   "source": [
    "def dealing_auto():\n",
    "    '''\n",
    "    Function to automatically deal first two cards to each player and dealer but leave 2nd dealer card hidden\n",
    "    '''\n",
    "    # each player receives his or her card\n",
    "    global player_dict, d\n",
    "    for i in player_dict.values():\n",
    "        i.cards.clear()\n",
    "        cardface, point= d.deal()\n",
    "        #print(\"\\n{} is a dealt a(n) {}:\\n\".format(i.name.capitalize(),cardface))\n",
    "        i.accept_card(cardface)\n",
    "        i.track_cardTotal(point)\n",
    "    for i in list(player_dict.values())[:(len(player_dict)-1)]:\n",
    "        cardface, point= d.deal()\n",
    "        #print(\"\\n{} is a dealt a(n) {}:\\n\".format(i.name.capitalize(),cardface))\n",
    "        i.accept_card(cardface)\n",
    "        i.track_cardTotal(point)\n",
    "    cardface, point= d.deal()\n",
    "    dealer_cardface_2 = cardface\n",
    "    dealer_point_2 = point\n",
    "    return dealer_cardface_2, dealer_point_2\n",
    "    clear_output()\n",
    "    print_tally()       \n",
    "\n",
    "def dealing_choice():\n",
    "    '''\n",
    "    Function to deal cards to each player if she opts to hit. \n",
    "    '''\n",
    "    # each player receives his or her card\n",
    "    global player_dict, d\n",
    "    clear_output()\n",
    "    print_tally()\n",
    "    for i in list(player_dict.values())[:(len(player_dict)-1)]:\n",
    "        if i.cardTotal > 21: \n",
    "            print('\\nSkipping {}. Exceeds 21.'.format(i.name.capitalize()))\n",
    "            continue\n",
    "        else:\n",
    "            while True:\n",
    "                hold_or_hit = input('{}: Do you wish to take a card? y/n '.format(i.name.capitalize()))            \n",
    "                if hold_or_hit.lower().startswith('y'):\n",
    "                    card,point= d.deal()\n",
    "                    i.accept_card(card)\n",
    "                    i.track_cardTotal(point)\n",
    "                    if i.cardTotal > 21: break\n",
    "                    else: \n",
    "                        clear_output()\n",
    "                        print_tally()\n",
    "                        continue\n",
    "                elif hold_or_hit.lower().startswith('n'): break\n",
    "                else: continue\n",
    "            clear_output()\n",
    "            print_tally()\n",
    "            continue\n",
    "\n",
    "def faceUp_dealer(card,point):\n",
    "    '''\n",
    "    Function to show last card of dealer and to auto-deal while dealer is below 17\n",
    "    '''\n",
    "    # dealer turns face up its card\n",
    "    global player_dict, d\n",
    "    player_dict['Dealer'].accept_card(card)\n",
    "    player_dict['Dealer'].track_cardTotal(point)\n",
    "    while True:\n",
    "        if player_dict['Dealer'].cardTotal <17:\n",
    "            card2, point2= d.deal()\n",
    "            player_dict['Dealer'].accept_card(card2)\n",
    "            player_dict['Dealer'].track_cardTotal(point2)\n",
    "            continue\n",
    "        else:\n",
    "            break\n",
    "    clear_output()\n",
    "    print_tally()"
   ]
  },
  {
   "cell_type": "markdown",
   "metadata": {},
   "source": [
    "#### Code block for scoring round"
   ]
  },
  {
   "cell_type": "code",
   "execution_count": 46,
   "metadata": {
    "collapsed": true
   },
   "outputs": [],
   "source": [
    "def score_round():\n",
    "    '''\n",
    "    Function to tally scores at end of round.\n",
    "    '''\n",
    "    global player_dict\n",
    "    clear_output()\n",
    "    print('##### Pre-Scoring ######')\n",
    "    print_tally()\n",
    "    dealerTotal = player_dict['Dealer'].return_total()\n",
    "    counter = 1\n",
    "    for i in list(player_dict.values())[:(len(player_dict)-1)]:\n",
    "        cdTotal = i.return_total()\n",
    "        amount = i.return_amount()\n",
    "        if cdTotal > 21:\n",
    "            i.adj_bankroll(amount*-1)\n",
    "            player_dict['Dealer'].adj_bankroll(amount)\n",
    "        elif dealerTotal > 21:\n",
    "            i.adj_bankroll(amount)\n",
    "            player_dict['Dealer'].adj_bankroll(amount*-1)\n",
    "        elif cdTotal > dealerTotal:\n",
    "            i.adj_bankroll(amount)\n",
    "            player_dict['Dealer'].adj_bankroll(amount*-1)\n",
    "        elif cdTotal == dealerTotal:\n",
    "            i.adj_bankroll(0)\n",
    "            player_dict['Dealer'].adj_bankroll(0)\n",
    "        else:\n",
    "            i.adj_bankroll(amount*-1)\n",
    "            player_dict['Dealer'].adj_bankroll(amount)\n",
    "        i.currentBet = 0\n",
    "        i.cardTotal = 0\n",
    "        i.cards.clear()\n",
    "        if i.bankroll == 0:\n",
    "            print('Game over for {} - no funds left'.format(i.name))\n",
    "            del player_dict[\"player_{}\".format(counter)]\n",
    "        counter +=1\n",
    "    player_dict['Dealer'].cardTotal = 0\n",
    "    player_dict['Dealer'].cards.clear()\n",
    "    print('\\n\\n##### Post-Scoring ######')\n",
    "    print_tally()\n",
    "    if len(player_dict)==1:\n",
    "        sys.exit('No player with funds remains')"
   ]
  },
  {
   "cell_type": "markdown",
   "metadata": {},
   "source": [
    "## Code block to run game"
   ]
  },
  {
   "cell_type": "code",
   "execution_count": 47,
   "metadata": {},
   "outputs": [
    {
     "name": "stdout",
     "output_type": "stream",
     "text": [
      "##### Pre-Scoring ######\n",
      "         Player's Name  Current Balance  Current Bet  Running Total\n",
      "player_1           AAA              100          100             26\n",
      "player_2           BBB              100          100             26\n",
      "player_3           DDD              100          100             26\n",
      "Dealer          Dealer                0            0             20 \n",
      "\n",
      "player_1    [Two of Clubs, Eight of Hearts, Queen of Heart...\n",
      "player_2    [Seven of Diamonds, King of Spades, Nine of Di...\n",
      "player_3    [Eight of Diamonds, King of Spades, Eight of S...\n",
      "Dealer                      [King of Diamonds, Ten of Hearts]\n",
      "Name: Cards Dealt, dtype: object\n",
      "Game over for AAA - no funds left\n",
      "Game over for BBB - no funds left\n",
      "Game over for DDD - no funds left\n",
      "\n",
      "\n",
      "##### Post-Scoring ######\n",
      "       Player's Name  Current Balance  Current Bet  Running Total\n",
      "Dealer        Dealer              300            0              0 \n",
      "\n",
      "Dealer    []\n",
      "Name: Cards Dealt, dtype: object\n"
     ]
    },
    {
     "ename": "SystemExit",
     "evalue": "No player with funds remains",
     "output_type": "error",
     "traceback": [
      "An exception has occurred, use %tb to see the full traceback.\n",
      "\u001b[0;31mSystemExit\u001b[0m\u001b[0;31m:\u001b[0m No player with funds remains\n"
     ]
    },
    {
     "name": "stderr",
     "output_type": "stream",
     "text": [
      "/Users/Apple/anaconda3/lib/python3.6/site-packages/IPython/core/interactiveshell.py:2889: UserWarning: To exit: use 'exit', 'quit', or Ctrl-D.\n",
      "  warn(\"To exit: use 'exit', 'quit', or Ctrl-D.\", stacklevel=1)\n"
     ]
    }
   ],
   "source": [
    "## Code for Blackjack game\n",
    "## Milestone Project 2\n",
    "\n",
    "# calling gamesetup function and defining global variables\n",
    "player_dict = dict() ## global variable\n",
    "d = None ## global variable\n",
    "gameover = False\n",
    "game_setup()\n",
    "\n",
    "## creating loop for rounds until all players are without money or elect to stop\n",
    "while not gameover:\n",
    "    accept_bids()\n",
    "    dealer_card, dealer_point = dealing_auto()\n",
    "    dealing_choice()\n",
    "    faceUp_dealer(dealer_card,dealer_point)\n",
    "    score_round()\n",
    "    while True:\n",
    "        newround = input('\\nDo remaining players wish to play another round? y/n ')            \n",
    "        if newround.lower().startswith('y'):\n",
    "            break\n",
    "        elif newround.lower().startswith('n'): \n",
    "            gameover = True\n",
    "            break\n",
    "        else:\n",
    "            print(\"Invalid entry. Please enter a 'y' or 'n'\")\n",
    "            continue\n",
    "clear_output()\n",
    "print('\\nGame over. Thanks for playing!\\n')"
   ]
  },
  {
   "cell_type": "code",
   "execution_count": null,
   "metadata": {
    "collapsed": true
   },
   "outputs": [],
   "source": []
  }
 ],
 "metadata": {
  "kernelspec": {
   "display_name": "Python 3",
   "language": "python",
   "name": "python3"
  },
  "language_info": {
   "codemirror_mode": {
    "name": "ipython",
    "version": 3
   },
   "file_extension": ".py",
   "mimetype": "text/x-python",
   "name": "python",
   "nbconvert_exporter": "python",
   "pygments_lexer": "ipython3",
   "version": "3.6.1"
  }
 },
 "nbformat": 4,
 "nbformat_minor": 1
}
