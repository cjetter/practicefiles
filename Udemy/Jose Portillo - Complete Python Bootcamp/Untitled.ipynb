{
 "cells": [
  {
   "cell_type": "code",
   "execution_count": 7,
   "metadata": {},
   "outputs": [
    {
     "name": "stdout",
     "output_type": "stream",
     "text": [
      "_X_\n",
      "_X_\n",
      "_X_\n",
      "_X__X__X_\n",
      "<class 'str'>\n",
      "_X__X__X_\n",
      "<class 'str'>\n",
      "_X_\n",
      "_X_\n",
      "_X_\n",
      "yes\n",
      "_X_\n",
      "_X_\n",
      "_X_\n",
      "_X__X__X_\n",
      "<class 'str'>\n",
      "_X__X__X_\n",
      "<class 'str'>\n",
      "_X_\n",
      "_X_\n",
      "_X_\n",
      "yes\n",
      "_X_\n",
      "_X_\n",
      "_X_\n",
      "_X__X__X_\n",
      "<class 'str'>\n",
      "_X__X__X_\n",
      "<class 'str'>\n",
      "_X_\n",
      "_X_\n",
      "_X_\n",
      "yes\n"
     ]
    }
   ],
   "source": [
    "spaces = []\n",
    "placeholder = '_X_'\n",
    "for i in range(9):\n",
    "    spaces.append(placeholder)\n",
    "\n",
    "marker = '_X_'\n",
    "\n",
    "for x in range(3):\n",
    "        y = x*3\n",
    "        print(spaces[y])\n",
    "        print(spaces[y+1])\n",
    "        print(spaces[y+2])\n",
    "        b = marker*3\n",
    "        print(b)\n",
    "        print(type(b))\n",
    "        n = spaces[y]+spaces[y+1]+spaces[y+2]\n",
    "        print(n)\n",
    "        print(type(n))\n",
    "        print(spaces[x])\n",
    "        print(spaces[x+3])\n",
    "        print(spaces[x+6])\n",
    "        if spaces[x]+spaces[x+3]+spaces[x+6]==marker*3: print('yes')"
   ]
  },
  {
   "cell_type": "code",
   "execution_count": 9,
   "metadata": {},
   "outputs": [
    {
     "data": {
      "text/plain": [
       "True"
      ]
     },
     "execution_count": 9,
     "metadata": {},
     "output_type": "execute_result"
    }
   ],
   "source": [
    "placeholder in spaces"
   ]
  },
  {
   "cell_type": "code",
   "execution_count": 11,
   "metadata": {},
   "outputs": [
    {
     "data": {
      "text/plain": [
       "True"
      ]
     },
     "execution_count": 11,
     "metadata": {},
     "output_type": "execute_result"
    }
   ],
   "source": [
    "placeholder = '___'\n",
    "placeholder not in spaces"
   ]
  }
 ],
 "metadata": {
  "kernelspec": {
   "display_name": "Python 3",
   "language": "python",
   "name": "python3"
  },
  "language_info": {
   "codemirror_mode": {
    "name": "ipython",
    "version": 3
   },
   "file_extension": ".py",
   "mimetype": "text/x-python",
   "name": "python",
   "nbconvert_exporter": "python",
   "pygments_lexer": "ipython3",
   "version": "3.6.1"
  }
 },
 "nbformat": 4,
 "nbformat_minor": 2
}
