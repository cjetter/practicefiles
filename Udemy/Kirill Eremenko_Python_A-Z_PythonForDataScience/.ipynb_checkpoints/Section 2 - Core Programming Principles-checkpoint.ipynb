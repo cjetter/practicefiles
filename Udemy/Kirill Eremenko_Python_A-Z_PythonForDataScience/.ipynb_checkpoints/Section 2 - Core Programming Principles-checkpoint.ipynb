{
 "cells": [
  {
   "cell_type": "markdown",
   "metadata": {},
   "source": [
    "### Section 2 - Core Programming Principles"
   ]
  },
  {
   "cell_type": "markdown",
   "metadata": {},
   "source": [
    "## Notes"
   ]
  },
  {
   "cell_type": "markdown",
   "metadata": {
    "collapsed": true
   },
   "source": [
    "## The While Loop\n",
    "\n",
    "#### Syntax of while loop in general:\n",
    "\n",
    "while (condition) {\n",
    "    executable code 1\n",
    "    executable code 2\n",
    "    executable code 3\n",
    "    }\n",
    "executable code 4\n",
    "    \n",
    "- Once the code is executed, the system would check the condition. If true, it would run the executable code 1-3 within the curly cue brackets. Once it reaches the close curly cue bracket, the system returns to the top and checks the condition again. If true, it again runs the code inside the brackets and will continue looping as such until the condition is false. Only once it leaves the loop will the system execute line 4\n",
    "\n",
    "- In Python, in place of {}, the language relies on indentation\n",
    "\n",
    "while (condition):\n",
    "    executable code 1\n",
    "    executable code 2\n",
    "    executable code 3\n",
    "executable code 4"
   ]
  },
  {
   "cell_type": "markdown",
   "metadata": {},
   "source": [
    "---"
   ]
  }
 ],
 "metadata": {
  "kernelspec": {
   "display_name": "Python 3",
   "language": "python",
   "name": "python3"
  },
  "language_info": {
   "codemirror_mode": {
    "name": "ipython",
    "version": 3
   },
   "file_extension": ".py",
   "mimetype": "text/x-python",
   "name": "python",
   "nbconvert_exporter": "python",
   "pygments_lexer": "ipython3",
   "version": "3.6.1"
  }
 },
 "nbformat": 4,
 "nbformat_minor": 2
}
