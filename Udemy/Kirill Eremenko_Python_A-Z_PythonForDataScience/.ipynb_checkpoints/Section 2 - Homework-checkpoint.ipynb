{
 "cells": [
  {
   "cell_type": "markdown",
   "metadata": {},
   "source": [
    "## Homework 1 - Law of Large Numbers"
   ]
  },
  {
   "cell_type": "markdown",
   "metadata": {},
   "source": [
    "<img src=\"Section 2 - image3.png\" style=\"width: 550px;\"align=\"left\"/>"
   ]
  },
  {
   "cell_type": "markdown",
   "metadata": {},
   "source": [
    "---"
   ]
  },
  {
   "cell_type": "markdown",
   "metadata": {},
   "source": [
    "- LLN applies to a sample of a larger population\n",
    "- Underlies the idea that a larger sample size provides greater assurance that the measure is representative of the true average for the entire population"
   ]
  },
  {
   "cell_type": "markdown",
   "metadata": {},
   "source": [
    "<img src=\"Section 2 - image.png\" style=\"width: 400px;\"align=\"left\"/>"
   ]
  },
  {
   "cell_type": "markdown",
   "metadata": {},
   "source": [
    "- For example 'X' represents the height of individuals in a population while the 'n' is the number of observations of the sample\n",
    "- Average across the sample will converge to the expected value of that same measure 'E(X)' when 'n' increases to infinity."
   ]
  },
  {
   "cell_type": "markdown",
   "metadata": {},
   "source": [
    "## Bell Curve\n",
    "- Visualization of the likelihood that a single observation of a measurement will be +/- from the true average\n",
    "\n",
    "<img src=\"Section 2 - image2.png\" style=\"width: 550px;\"align=\"left\"/>"
   ]
  },
  {
   "cell_type": "markdown",
   "metadata": {},
   "source": [
    "---\n"
   ]
  },
  {
   "cell_type": "code",
   "execution_count": 3,
   "metadata": {},
   "outputs": [
    {
     "name": "stdout",
     "output_type": "stream",
     "text": [
      "{10: (7, 0.7), 100: (65, 0.65), 1000: (658, 0.658), 10000: (6798, 0.6798), 100000: (68198, 0.68198), 1000000: (682795, 0.682795), 10000000: (6825559, 0.6825559)}\n"
     ]
    }
   ],
   "source": [
    "# import libraries\n",
    "from numpy.random import randn\n",
    "\n",
    "# create global variables\n",
    "SampleSize = [10,10**2,10**3,10**4,10**5,10**6,10**7]\n",
    "Results = {}\n",
    "\n",
    "for i in SampleSize:\n",
    "    N = i\n",
    "    tempResults = []\n",
    "    for i in range(N):\n",
    "        n = randn()\n",
    "        if n>= -1 and n<= 1: \n",
    "            tempResults.append(n)\n",
    "        else: continue\n",
    "    pct = len(tempResults)/N\n",
    "    qt = len(tempResults)\n",
    "    Results[N] = qt, pct\n",
    "\n",
    "print(Results)      \n",
    "        "
   ]
  },
  {
   "cell_type": "markdown",
   "metadata": {},
   "source": [
    "---"
   ]
  },
  {
   "cell_type": "markdown",
   "metadata": {},
   "source": [
    "### Visualization"
   ]
  },
  {
   "cell_type": "code",
   "execution_count": 49,
   "metadata": {},
   "outputs": [
    {
     "data": {
      "text/plain": [
       "<matplotlib.collections.PathCollection at 0x116f0b550>"
      ]
     },
     "execution_count": 49,
     "metadata": {},
     "output_type": "execute_result"
    },
    {
     "data": {
      "image/png": "[encoded data removed]",
      "text/plain": [
       "<matplotlib.figure.Figure at 0x1252e4128>"
      ]
     },
     "metadata": {},
     "output_type": "display_data"
    }
   ],
   "source": [
    "# import libraries\n",
    "from numpy.random import randn\n",
    "from collections import Counter\n",
    "import matplotlib.pyplot as plt\n",
    "%matplotlib inline \n",
    "\n",
    "# create global variables\n",
    "N = 1000000\n",
    "pct_data = []\n",
    "\n",
    "for i in range(N):\n",
    "    n = round(randn(),1)\n",
    "    pct_data.append(n)\n",
    "\n",
    "qty = Counter(pct_data)\n",
    "\n",
    "#print(sum(qty.values()))\n",
    "#print(qty)\n",
    "\n",
    "pct_lst = []\n",
    "n_lst = []\n",
    "\n",
    "for k in qty.most_common():\n",
    "    pct_lst.append(k[1]/N)\n",
    "    n_lst.append(k[0])\n",
    "    \n",
    "plt.scatter(x=n_lst,y=pct_lst)"
   ]
  },
  {
   "cell_type": "markdown",
   "metadata": {},
   "source": [
    "---"
   ]
  },
  {
   "cell_type": "markdown",
   "metadata": {},
   "source": [
    "### Homework Solution"
   ]
  },
  {
   "cell_type": "code",
   "execution_count": 18,
   "metadata": {},
   "outputs": [
    {
     "data": {
      "text/plain": [
       "0.68143"
      ]
     },
     "execution_count": 18,
     "metadata": {},
     "output_type": "execute_result"
    }
   ],
   "source": [
    "# import libaries\n",
    "import numpy as np\n",
    "from numpy.random import randn\n",
    "\n",
    "# global variables\n",
    "N = 100000\n",
    "counter = 0\n",
    "\n",
    "for i in randn(N):\n",
    "    if i >=-1 and i <= 1:\n",
    "        counter += 1\n",
    "counter/N\n",
    "        "
   ]
  }
 ],
 "metadata": {
  "kernelspec": {
   "display_name": "Python 3",
   "language": "python",
   "name": "python3"
  },
  "language_info": {
   "codemirror_mode": {
    "name": "ipython",
    "version": 3
   },
   "file_extension": ".py",
   "mimetype": "text/x-python",
   "name": "python",
   "nbconvert_exporter": "python",
   "pygments_lexer": "ipython3",
   "version": "3.6.1"
  }
 },
 "nbformat": 4,
 "nbformat_minor": 2
}
