{
 "cells": [
  {
   "cell_type": "markdown",
   "metadata": {},
   "source": [
    "### Section 3 - Fundamentals of Python"
   ]
  },
  {
   "cell_type": "markdown",
   "metadata": {},
   "source": [
    "### Lists\n",
    "- Lists are like horizontal bookshelves\n",
    "- Similar to arrays (C, C++) or vectors (R) in other programming languages\n",
    "- Enumeration of lists in Python starts with zero (unlike with R that starts at 1)\n",
    "- Lists allow for multiple object types "
   ]
  },
  {
   "cell_type": "markdown",
   "metadata": {},
   "source": [
    "### Lists and the range function - Python 3 vs 2\n",
    "- Lists can be created by using the range function\n",
    "- In Python 2.x, the range function generated a list \n",
    "- In Python 3.X, the range function creates an 'iterator' or a 'generator'\n",
    "- Given you often create lists to iterate over, the updated function will create an iterable list with much less memory, only generating the necessary value at the moment of iteration (vs storing the entire list)\n",
    "- range(10) == xrange(10) from Python 2.X"
   ]
  },
  {
   "cell_type": "markdown",
   "metadata": {},
   "source": [
    "### Slicing a list\n",
    "- Indexation allows for easy access of objects in sequence\n",
    "- Slicing is essentially taking a subset out of your list (called 'subsetting' in R)\n",
    "- You can pass positive or negative indexing or mix of two\n",
    "\n",
    "<img src=\"Section 3 - image.png\" style=\"width: 550px;\"align=\"left\"/>"
   ]
  },
  {
   "cell_type": "code",
   "execution_count": 9,
   "metadata": {},
   "outputs": [
    {
     "name": "stdout",
     "output_type": "stream",
     "text": [
      "['C', 'D', 'E', 'F', 'G']\n",
      "[]\n",
      "[]\n",
      "['C']\n",
      "['F', 'G']\n"
     ]
    }
   ],
   "source": [
    "lst = list('ABCDEFGHIJ')\n",
    "print(lst[-8:7])\n",
    "print(lst[-2:7])\n",
    "print(lst[-8:1])\n",
    "print(lst[-8:3])\n",
    "print(lst[-5:7])"
   ]
  },
  {
   "cell_type": "code",
   "execution_count": 23,
   "metadata": {},
   "outputs": [
    {
     "name": "stdout",
     "output_type": "stream",
     "text": [
      "['C', 'D', 'E', 'F', 'G']\n",
      "['G', 'F', 'E', 'D', 'C']\n"
     ]
    }
   ],
   "source": [
    "print(lst[2:7:1])\n",
    "print(lst[6:1:-1])"
   ]
  },
  {
   "cell_type": "markdown",
   "metadata": {},
   "source": [
    "### Tuples - immutable lists\n",
    "- can still access similar to lists but cannot change objects within tuple"
   ]
  },
  {
   "cell_type": "markdown",
   "metadata": {},
   "source": [
    "### Packages\n",
    "- A module is simply a file containing Python definitions, functions and statements\n",
    "- Putting code into modules is useful because of the ability to import the module functionality into your script\n",
    "- A package is just a way of collecting related modules together within a single tree-like hierarchy\n",
    "- Very complex packages (like NumPy or SciPy) have hundreds of individual modules so putting them into a directory-like structure keeps things organized and avoids name collisions\n",
    "\n",
    "- Steps to using packages\n",
    "    - 1: Find the package - Search internet resources based on your needs (look to github)\n",
    "    - 2: Install the package - Open up terminal and enter in either \"conda install 'package name'\" or \"pip install 'package name'\"\n",
    "    - 3: Import the package or function - \"import 'package'\" or \"from 'package' import 'function'\"\n",
    "    "
   ]
  },
  {
   "cell_type": "markdown",
   "metadata": {},
   "source": [
    "### Arrays in Python\n",
    "- Can use a core module (array.arrays) or the NumPy package\n",
    "- Use NumPy given it offers a much more versatile array object type\n",
    "- Arrays in comparison with lists do not allow for more than one data type\n",
    "- Benefits of arrays over lists are:\n",
    "    - Arrays have many more methods available than lists with versatile and powerful functions for arrays with NumPy\n",
    "    - Arrays allow for multi-dimensional objects"
   ]
  },
  {
   "cell_type": "code",
   "execution_count": 72,
   "metadata": {},
   "outputs": [
    {
     "data": {
      "text/plain": [
       "1.0"
      ]
     },
     "execution_count": 72,
     "metadata": {},
     "output_type": "execute_result"
    }
   ],
   "source": [
    "import numpy as np\n",
    "a = np.array([[12.1,3,True,0],[8,9,90,10]])\n",
    "a[0][2]"
   ]
  },
  {
   "cell_type": "markdown",
   "metadata": {},
   "source": [
    "### Slicing an array\n",
    "- Unlike lists, where the slice results in a copy of the list, when you slice an array, it is simply making a new view of the array\n",
    "- Any changes made to a view of the array will affect the original array as well\n",
    "- Reason for use of view (vs copy) is to protect the memory of the array\n",
    "- If a true copy is desired, you can call the copy method np.array.copy"
   ]
  },
  {
   "cell_type": "code",
   "execution_count": 71,
   "metadata": {},
   "outputs": [
    {
     "name": "stdout",
     "output_type": "stream",
     "text": [
      "[[ 12.1   3.    1.    0. ]\n",
      " [  8.    9.   90.   10. ]]\n",
      "[  8.   9.  90.]\n",
      "[ 199.  199.  199.]\n",
      "[[  12.1    3.     1.     0. ]\n",
      " [ 199.   199.   199.    10. ]]\n"
     ]
    }
   ],
   "source": [
    "print(a)\n",
    "b = a[1][:3]\n",
    "print(b)\n",
    "b[:] = 199\n",
    "print(b)\n",
    "print(a)"
   ]
  },
  {
   "cell_type": "code",
   "execution_count": 73,
   "metadata": {},
   "outputs": [
    {
     "name": "stdout",
     "output_type": "stream",
     "text": [
      "[[ 12.1   3.    1.    0. ]\n",
      " [  8.    9.   90.   10. ]]\n",
      "[  8.   9.  90.]\n",
      "[ 199.  199.  199.]\n",
      "[[ 12.1   3.    1.    0. ]\n",
      " [  8.    9.   90.   10. ]]\n"
     ]
    }
   ],
   "source": [
    "print(a)\n",
    "b = a.copy()[1][:3]\n",
    "print(b)\n",
    "b[:] = 199\n",
    "print(b)\n",
    "print(a)"
   ]
  },
  {
   "cell_type": "code",
   "execution_count": null,
   "metadata": {},
   "outputs": [],
   "source": []
  },
  {
   "cell_type": "code",
   "execution_count": null,
   "metadata": {
    "collapsed": true
   },
   "outputs": [],
   "source": []
  }
 ],
 "metadata": {
  "kernelspec": {
   "display_name": "Python 3",
   "language": "python",
   "name": "python3"
  },
  "language_info": {
   "codemirror_mode": {
    "name": "ipython",
    "version": 3
   },
   "file_extension": ".py",
   "mimetype": "text/x-python",
   "name": "python",
   "nbconvert_exporter": "python",
   "pygments_lexer": "ipython3",
   "version": "3.6.1"
  }
 },
 "nbformat": 4,
 "nbformat_minor": 2
}
