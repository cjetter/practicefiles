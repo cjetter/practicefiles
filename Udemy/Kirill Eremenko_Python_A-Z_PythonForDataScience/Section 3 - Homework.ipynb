{
 "cells": [
  {
   "cell_type": "markdown",
   "metadata": {},
   "source": [
    "## Homework 3 - Financial Statement Analysis"
   ]
  },
  {
   "cell_type": "markdown",
   "metadata": {},
   "source": [
    "<img src=\"Section 3 - image1.png\" style=\"width: 550px;\"align=\"left\"/>\n",
    "<img src=\"Section 3 - image2.png\" style=\"width: 550px;\"align=\"left\"/>"
   ]
  },
  {
   "cell_type": "markdown",
   "metadata": {},
   "source": [
    "### Dataset"
   ]
  },
  {
   "cell_type": "code",
   "execution_count": 3,
   "metadata": {
    "collapsed": true
   },
   "outputs": [],
   "source": [
    "#Data \n",
    "revenue = [14574.49, 7606.46, 8611.41, 9175.41, 8058.65, 8105.44, 11496.28, 9766.09, 10305.32, 14379.96, 10713.97, 15433.50]\n",
    "expenses = [12051.82, 5695.07, 12319.20, 12089.72, 8658.57, 840.20, 3285.73, 5821.12, 6976.93, 16618.61, 10054.37, 3803.96]"
   ]
  },
  {
   "cell_type": "markdown",
   "metadata": {},
   "source": [
    "---"
   ]
  },
  {
   "cell_type": "markdown",
   "metadata": {},
   "source": [
    "### Data Analysis"
   ]
  },
  {
   "cell_type": "code",
   "execution_count": 4,
   "metadata": {},
   "outputs": [
    {
     "name": "stdout",
     "output_type": "stream",
     "text": [
      "Avg  1750.68133333\n"
     ]
    },
    {
     "data": {
      "text/html": [
       "<div>\n",
       "<style>\n",
       "    .dataframe thead tr:only-child th {\n",
       "        text-align: right;\n",
       "    }\n",
       "\n",
       "    .dataframe thead th {\n",
       "        text-align: left;\n",
       "    }\n",
       "\n",
       "    .dataframe tbody tr th {\n",
       "        vertical-align: top;\n",
       "    }\n",
       "</style>\n",
       "<table border=\"1\" class=\"dataframe\">\n",
       "  <thead>\n",
       "    <tr style=\"text-align: right;\">\n",
       "      <th></th>\n",
       "      <th>Jan</th>\n",
       "      <th>Feb</th>\n",
       "      <th>Mar</th>\n",
       "      <th>Apr</th>\n",
       "      <th>May</th>\n",
       "      <th>Jun</th>\n",
       "      <th>Jul</th>\n",
       "      <th>Aug</th>\n",
       "      <th>Sep</th>\n",
       "      <th>Oct</th>\n",
       "      <th>Nov</th>\n",
       "      <th>Dec</th>\n",
       "    </tr>\n",
       "  </thead>\n",
       "  <tbody>\n",
       "    <tr>\n",
       "      <th>Revenue</th>\n",
       "      <td>14574.49</td>\n",
       "      <td>7606.46</td>\n",
       "      <td>8611.41</td>\n",
       "      <td>9175.41</td>\n",
       "      <td>8058.65</td>\n",
       "      <td>8105.44</td>\n",
       "      <td>11496.28</td>\n",
       "      <td>9766.09</td>\n",
       "      <td>10305.32</td>\n",
       "      <td>14379.96</td>\n",
       "      <td>10713.97</td>\n",
       "      <td>15433.50</td>\n",
       "    </tr>\n",
       "    <tr>\n",
       "      <th>Expenses</th>\n",
       "      <td>12051.82</td>\n",
       "      <td>5695.07</td>\n",
       "      <td>12319.20</td>\n",
       "      <td>12089.72</td>\n",
       "      <td>8658.57</td>\n",
       "      <td>840.20</td>\n",
       "      <td>3285.73</td>\n",
       "      <td>5821.12</td>\n",
       "      <td>6976.93</td>\n",
       "      <td>16618.61</td>\n",
       "      <td>10054.37</td>\n",
       "      <td>3803.96</td>\n",
       "    </tr>\n",
       "    <tr>\n",
       "      <th>Pre-Tax Profit</th>\n",
       "      <td>2522.67</td>\n",
       "      <td>1911.39</td>\n",
       "      <td>-3707.79</td>\n",
       "      <td>-2914.31</td>\n",
       "      <td>-599.92</td>\n",
       "      <td>7265.24</td>\n",
       "      <td>8210.55</td>\n",
       "      <td>3944.97</td>\n",
       "      <td>3328.39</td>\n",
       "      <td>-2238.65</td>\n",
       "      <td>659.60</td>\n",
       "      <td>11629.54</td>\n",
       "    </tr>\n",
       "    <tr>\n",
       "      <th>Post-Tax Profit</th>\n",
       "      <td>1765.87</td>\n",
       "      <td>1337.97</td>\n",
       "      <td>-2595.45</td>\n",
       "      <td>-2040.02</td>\n",
       "      <td>-419.94</td>\n",
       "      <td>5085.67</td>\n",
       "      <td>5747.38</td>\n",
       "      <td>2761.48</td>\n",
       "      <td>2329.87</td>\n",
       "      <td>-1567.06</td>\n",
       "      <td>461.72</td>\n",
       "      <td>8140.68</td>\n",
       "    </tr>\n",
       "    <tr>\n",
       "      <th>Profit Margin</th>\n",
       "      <td>12.12</td>\n",
       "      <td>17.59</td>\n",
       "      <td>-30.14</td>\n",
       "      <td>-22.23</td>\n",
       "      <td>-5.21</td>\n",
       "      <td>62.74</td>\n",
       "      <td>49.99</td>\n",
       "      <td>28.28</td>\n",
       "      <td>22.61</td>\n",
       "      <td>-10.90</td>\n",
       "      <td>4.31</td>\n",
       "      <td>52.75</td>\n",
       "    </tr>\n",
       "    <tr>\n",
       "      <th>Good Months</th>\n",
       "      <td>1765.87</td>\n",
       "      <td>NaN</td>\n",
       "      <td>NaN</td>\n",
       "      <td>NaN</td>\n",
       "      <td>NaN</td>\n",
       "      <td>5085.67</td>\n",
       "      <td>5747.38</td>\n",
       "      <td>2761.48</td>\n",
       "      <td>2329.87</td>\n",
       "      <td>NaN</td>\n",
       "      <td>NaN</td>\n",
       "      <td>8140.68</td>\n",
       "    </tr>\n",
       "    <tr>\n",
       "      <th>Bad Months</th>\n",
       "      <td>NaN</td>\n",
       "      <td>1337.97</td>\n",
       "      <td>-2595.45</td>\n",
       "      <td>-2040.02</td>\n",
       "      <td>-419.94</td>\n",
       "      <td>NaN</td>\n",
       "      <td>NaN</td>\n",
       "      <td>NaN</td>\n",
       "      <td>NaN</td>\n",
       "      <td>-1567.06</td>\n",
       "      <td>461.72</td>\n",
       "      <td>NaN</td>\n",
       "    </tr>\n",
       "    <tr>\n",
       "      <th>Best Month</th>\n",
       "      <td>NaN</td>\n",
       "      <td>NaN</td>\n",
       "      <td>NaN</td>\n",
       "      <td>NaN</td>\n",
       "      <td>NaN</td>\n",
       "      <td>NaN</td>\n",
       "      <td>NaN</td>\n",
       "      <td>NaN</td>\n",
       "      <td>NaN</td>\n",
       "      <td>NaN</td>\n",
       "      <td>NaN</td>\n",
       "      <td>8140.68</td>\n",
       "    </tr>\n",
       "    <tr>\n",
       "      <th>Worst Month</th>\n",
       "      <td>NaN</td>\n",
       "      <td>NaN</td>\n",
       "      <td>-2595.45</td>\n",
       "      <td>NaN</td>\n",
       "      <td>NaN</td>\n",
       "      <td>NaN</td>\n",
       "      <td>NaN</td>\n",
       "      <td>NaN</td>\n",
       "      <td>NaN</td>\n",
       "      <td>NaN</td>\n",
       "      <td>NaN</td>\n",
       "      <td>NaN</td>\n",
       "    </tr>\n",
       "  </tbody>\n",
       "</table>\n",
       "</div>"
      ],
      "text/plain": [
       "                      Jan      Feb       Mar       Apr      May      Jun  \\\n",
       "Revenue          14574.49  7606.46   8611.41   9175.41  8058.65  8105.44   \n",
       "Expenses         12051.82  5695.07  12319.20  12089.72  8658.57   840.20   \n",
       "Pre-Tax Profit    2522.67  1911.39  -3707.79  -2914.31  -599.92  7265.24   \n",
       "Post-Tax Profit   1765.87  1337.97  -2595.45  -2040.02  -419.94  5085.67   \n",
       "Profit Margin       12.12    17.59    -30.14    -22.23    -5.21    62.74   \n",
       "Good Months       1765.87      NaN       NaN       NaN      NaN  5085.67   \n",
       "Bad Months            NaN  1337.97  -2595.45  -2040.02  -419.94      NaN   \n",
       "Best Month            NaN      NaN       NaN       NaN      NaN      NaN   \n",
       "Worst Month           NaN      NaN  -2595.45       NaN      NaN      NaN   \n",
       "\n",
       "                      Jul      Aug       Sep       Oct       Nov       Dec  \n",
       "Revenue          11496.28  9766.09  10305.32  14379.96  10713.97  15433.50  \n",
       "Expenses          3285.73  5821.12   6976.93  16618.61  10054.37   3803.96  \n",
       "Pre-Tax Profit    8210.55  3944.97   3328.39  -2238.65    659.60  11629.54  \n",
       "Post-Tax Profit   5747.38  2761.48   2329.87  -1567.06    461.72   8140.68  \n",
       "Profit Margin       49.99    28.28     22.61    -10.90      4.31     52.75  \n",
       "Good Months       5747.38  2761.48   2329.87       NaN       NaN   8140.68  \n",
       "Bad Months            NaN      NaN       NaN  -1567.06    461.72       NaN  \n",
       "Best Month            NaN      NaN       NaN       NaN       NaN   8140.68  \n",
       "Worst Month           NaN      NaN       NaN       NaN       NaN       NaN  "
      ]
     },
     "execution_count": 4,
     "metadata": {},
     "output_type": "execute_result"
    }
   ],
   "source": [
    "# import libraries\n",
    "import numpy as np\n",
    "from pandas import DataFrame\n",
    "\n",
    "# create global variables\n",
    "months = ['Jan','Feb','Mar','Apr','May','Jun','Jul','Aug','Sep','Oct','Nov','Dec']\n",
    "rev = np.array(revenue)\n",
    "exp = np.array(expenses)\n",
    "rate = 0.3\n",
    "\n",
    "# calculate monthly profit (pre/post tax)\n",
    "preTax_profits = rev-exp\n",
    "#preTax_profits = preTax_profits.round(0)\n",
    "postTax_profits = (rev-exp)*(1-rate)\n",
    "#postTax_profits = postTax_profits.round(0)\n",
    "\n",
    "# analyze profit margin\n",
    "profitMargin = postTax_profits/revenue*100\n",
    "#profitMargin = profitMargin.round(0)\n",
    "\n",
    "# months w above/below avg results \n",
    "mean = postTax_profits.mean()\n",
    "glst = [i if i>mean else None for i in postTax_profits]\n",
    "good = np.array(glst)\n",
    "blst = [i if i<mean else None for i in postTax_profits]\n",
    "bad = np.array(blst)\n",
    "\n",
    "# best/worst month\n",
    "blst = [i if i==postTax_profits.max() else None for i in postTax_profits]\n",
    "best = np.array(blst)\n",
    "wlst = [i if i==postTax_profits.min() else None for i in postTax_profits]\n",
    "worst = np.array(wlst)\n",
    "\n",
    "# presentation of data\n",
    "indx = ['Revenue','Expenses','Pre-Tax Profit','Post-Tax Profit','Profit Margin','Good Months','Bad Months','Best Month','Worst Month']\n",
    "data = [rev,exp,preTax_profits,postTax_profits,profitMargin,good,bad,best,worst]\n",
    "\n",
    "df = DataFrame(data = data, index=indx, columns = months)\n",
    "df = df.round(2)\n",
    "print('Avg ',mean)\n",
    "df"
   ]
  },
  {
   "cell_type": "markdown",
   "metadata": {},
   "source": [
    "---"
   ]
  },
  {
   "cell_type": "markdown",
   "metadata": {},
   "source": [
    "### Data Visualization"
   ]
  },
  {
   "cell_type": "code",
   "execution_count": 8,
   "metadata": {},
   "outputs": [
    {
     "data": {
      "image/png": "[encoded data removed]",
      "text/plain": [
       "<matplotlib.figure.Figure at 0x116841fd0>"
      ]
     },
     "metadata": {},
     "output_type": "display_data"
    }
   ],
   "source": [
    "# import libraries\n",
    "import matplotlib.pyplot as plt\n",
    "%matplotlib inline \n",
    "\n",
    "yy = list(df.loc['Post-Tax Profit'])\n",
    "xx = list(range(1,13))\n",
    "\n",
    "p = plt.bar(xx, yy)\n",
    "plt.show(p)"
   ]
  }
 ],
 "metadata": {
  "kernelspec": {
   "display_name": "Python 3",
   "language": "python",
   "name": "python3"
  },
  "language_info": {
   "codemirror_mode": {
    "name": "ipython",
    "version": 3
   },
   "file_extension": ".py",
   "mimetype": "text/x-python",
   "name": "python",
   "nbconvert_exporter": "python",
   "pygments_lexer": "ipython3",
   "version": "3.6.1"
  }
 },
 "nbformat": 4,
 "nbformat_minor": 2
}
